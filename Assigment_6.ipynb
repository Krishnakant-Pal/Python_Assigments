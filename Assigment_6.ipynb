{
  "nbformat": 4,
  "nbformat_minor": 0,
  "metadata": {
    "colab": {
      "provenance": [],
      "authorship_tag": "ABX9TyOknGFDeXY2aFpUJpTuomtZ",
      "include_colab_link": true
    },
    "kernelspec": {
      "name": "python3",
      "display_name": "Python 3"
    },
    "language_info": {
      "name": "python"
    }
  },
  "cells": [
    {
      "cell_type": "markdown",
      "metadata": {
        "id": "view-in-github",
        "colab_type": "text"
      },
      "source": [
        "<a href=\"https://colab.research.google.com/github/Krishnakant-Pal/Python_Assigments/blob/main/Assigment_6.ipynb\" target=\"_parent\"><img src=\"https://colab.research.google.com/assets/colab-badge.svg\" alt=\"Open In Colab\"/></a>"
      ]
    },
    {
      "cell_type": "markdown",
      "source": [
        "**Q.1. What are keywords in python? Using the keyword library, print all the python keywords.**\n",
        "\n",
        "--> Keyword is the python reserved word that has some purpose it the language and these keyword cannot be used as a variable name."
      ],
      "metadata": {
        "id": "TEVN6QveHy7w"
      }
    },
    {
      "cell_type": "code",
      "source": [
        "import keyword\n",
        "print(keyword.kwlist)"
      ],
      "metadata": {
        "colab": {
          "base_uri": "https://localhost:8080/"
        },
        "id": "q3dY3KrHCjLN",
        "outputId": "49ce42e7-5b18-4dfe-98e8-84d08c8ee6dc"
      },
      "execution_count": null,
      "outputs": [
        {
          "output_type": "stream",
          "name": "stdout",
          "text": [
            "['False', 'None', 'True', 'and', 'as', 'assert', 'async', 'await', 'break', 'class', 'continue', 'def', 'del', 'elif', 'else', 'except', 'finally', 'for', 'from', 'global', 'if', 'import', 'in', 'is', 'lambda', 'nonlocal', 'not', 'or', 'pass', 'raise', 'return', 'try', 'while', 'with', 'yield']\n"
          ]
        }
      ]
    },
    {
      "cell_type": "markdown",
      "source": [
        "**Q.2. What are the rules to create variables in python?**\n",
        "\n",
        "-->\n",
        "   *   Variable name should start with letter A-Z or a-z or an underscore.\n",
        "   *  It can contain numeric(0-9), alphabet and underscore.\n",
        "   *  Variable name are case sensitive and should know contain pythong reserved words."
      ],
      "metadata": {
        "id": "ZbF8Xd8zH3lx"
      }
    },
    {
      "cell_type": "markdown",
      "source": [
        "**Q.3. What are the standards and conventions followed for the nomenclature of variables in\n",
        "python to improve code readability and maintainability?**\n",
        "\n",
        "* Use lowercase variable names.\n",
        "* Use meaningful and descriptive variable names.\n",
        "* Seperate the word in variable name with underscore which is called snake_case.\n",
        "* Use uppercase for constants.\n"
      ],
      "metadata": {
        "id": "dAmhc2_ZH8TC"
      }
    },
    {
      "cell_type": "markdown",
      "source": [
        "**Q.4. What will happen if a keyword is used as a variable name?**\n",
        "\n",
        "--> Python will through syntax error."
      ],
      "metadata": {
        "id": "DwfwiDgiIB8b"
      }
    },
    {
      "cell_type": "markdown",
      "source": [
        "**Q.5. For what purpose def keyword is used?**\n",
        "\n",
        "--> def keyword is used when defining any fuction in python. Which is the block of code that can be reused."
      ],
      "metadata": {
        "id": "Rb39cjoTIGqq"
      }
    },
    {
      "cell_type": "markdown",
      "source": [
        "**Q.6. What is the operation of this special character ‘\\’?**\n",
        "\n",
        "--> In python backslash is the escape character.It is used in the speacial character string to create speacial character sequence.\n",
        "E.g. - \\n - It is used as a new line in the string.\n"
      ],
      "metadata": {
        "id": "qHHX2bKxIIrK"
      }
    },
    {
      "cell_type": "markdown",
      "source": [
        "**Q.7. Give an example of the following conditions:\n",
        "(i) Homogeneous list\n",
        "(ii) Heterogeneous set\n",
        "(iii) Homogeneous tuple**\n",
        "\n"
      ],
      "metadata": {
        "id": "nQTLnpn5IKuK"
      }
    },
    {
      "cell_type": "code",
      "source": [
        "# Homogeneous list:- List containing same type of elements\n",
        "homogeneous_list = [1, 2, 3, 4, 5]\n"
      ],
      "metadata": {
        "id": "tWvn6eNNLdFF"
      },
      "execution_count": null,
      "outputs": []
    },
    {
      "cell_type": "code",
      "source": [
        "# Heterogeneous set: Set containing mixed type of elements\n",
        "heterogeneous_set = {1, \"apple\", 3.14, True}\n"
      ],
      "metadata": {
        "id": "Q7qKvhd_LpAl"
      },
      "execution_count": null,
      "outputs": []
    },
    {
      "cell_type": "code",
      "source": [
        "# Homogeneous Tuple: Tuple containing same type of elements\n",
        "homogeneous_tuple = (10, 20, 30, 40, 50)\n"
      ],
      "metadata": {
        "id": "NDgU-nE1L7ym"
      },
      "execution_count": null,
      "outputs": []
    },
    {
      "cell_type": "markdown",
      "source": [
        "**Q.8. Explain the mutable and immutable data types with proper explanation & examples.**\n",
        "\n",
        "--> Mutable data types can be modified after its creation, while immutalble data type cannot be modified after creation.\n",
        "\n",
        "Mutable data types : List, dictionaries.\n",
        "Immutable data types: Strings,tuples and integers."
      ],
      "metadata": {
        "id": "bZf5kuf1IUe0"
      }
    },
    {
      "cell_type": "code",
      "source": [],
      "metadata": {
        "id": "CU5PcOQRIeMs"
      },
      "execution_count": null,
      "outputs": []
    },
    {
      "cell_type": "markdown",
      "source": [
        "**Q.9. Write a code to create the given structure using only for loop.\n",
        "*\n",
        "***\n",
        "*****\n",
        "*******\n",
        "********* **"
      ],
      "metadata": {
        "id": "SVl0g6S5IXb9"
      }
    },
    {
      "cell_type": "code",
      "source": [
        "level = 5\n",
        "for i in range(level):\n",
        "    for j in range(level-i-1):\n",
        "        print(' ',end='')\n",
        "    for k in range(i+1):\n",
        "        print('*',end='')\n",
        "    for l in range(i):\n",
        "        print('*',end='')\n",
        "    print('\\n')"
      ],
      "metadata": {
        "colab": {
          "base_uri": "https://localhost:8080/"
        },
        "id": "kENPF8_EIe5-",
        "outputId": "057c261d-a48b-442c-e8da-000ab641a8ee"
      },
      "execution_count": null,
      "outputs": [
        {
          "output_type": "stream",
          "name": "stdout",
          "text": [
            "    *\n",
            "\n",
            "   ***\n",
            "\n",
            "  *****\n",
            "\n",
            " *******\n",
            "\n",
            "*********\n",
            "\n"
          ]
        }
      ]
    },
    {
      "cell_type": "markdown",
      "source": [
        "**Q.10. Write a code to create the given structure using while loop.**\n",
        "|||||||||\n",
        "|||||||\n",
        "|||||\n",
        "|||\n",
        "|\n",
        "\n"
      ],
      "metadata": {
        "id": "o9kDQaeUeBBk"
      }
    },
    {
      "cell_type": "code",
      "source": [
        "level = n = 5\n",
        "while n>0:\n",
        "    l = m = n\n",
        "    k = m -1\n",
        "    while l<=level:\n",
        "        print(' ',end='')\n",
        "        l += 1\n",
        "    while m>0:\n",
        "        print('|',end='')\n",
        "        m -= 1\n",
        "    while k>0:\n",
        "        print('|',end='')\n",
        "        k -= 1\n",
        "    print('\\n')\n",
        "    n -= 1"
      ],
      "metadata": {
        "colab": {
          "base_uri": "https://localhost:8080/"
        },
        "id": "1UW5fgeihD8K",
        "outputId": "2b3dc8ea-f3e0-44b3-e453-4484bddf893f"
      },
      "execution_count": null,
      "outputs": [
        {
          "output_type": "stream",
          "name": "stdout",
          "text": [
            " |||||||||\n",
            "\n",
            "  |||||||\n",
            "\n",
            "   |||||\n",
            "\n",
            "    |||\n",
            "\n",
            "     |\n",
            "\n"
          ]
        }
      ]
    },
    {
      "cell_type": "code",
      "source": [
        "for i in range(5,0,-1):\n",
        "    for l in range(5-i):\n",
        "        print(' ',end='')\n",
        "    for j in range(i):\n",
        "        print('|',end='')\n",
        "    for k in range(j):\n",
        "        print('|',end='')\n",
        "\n",
        "    print('\\n')"
      ],
      "metadata": {
        "colab": {
          "base_uri": "https://localhost:8080/"
        },
        "id": "ADhjFVP4ewHA",
        "outputId": "aea9f50d-6aa0-421c-eef7-d790691623b8"
      },
      "execution_count": null,
      "outputs": [
        {
          "output_type": "stream",
          "name": "stdout",
          "text": [
            "|||||||||\n",
            "\n",
            " |||||||\n",
            "\n",
            "  |||||\n",
            "\n",
            "   |||\n",
            "\n",
            "    |\n",
            "\n"
          ]
        }
      ]
    }
  ]
}