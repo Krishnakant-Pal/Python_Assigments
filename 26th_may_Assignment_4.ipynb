{
  "nbformat": 4,
  "nbformat_minor": 0,
  "metadata": {
    "colab": {
      "provenance": [],
      "authorship_tag": "ABX9TyMK5dGNA7efKYGP7rcljeCS"
    },
    "kernelspec": {
      "name": "python3",
      "display_name": "Python 3"
    },
    "language_info": {
      "name": "python"
    }
  },
  "cells": [
    {
      "cell_type": "markdown",
      "source": [
        "**1. What exactly is []?**\n",
        "\n",
        "--> It is a empty list in the python, in this it doesn't contain any item.\n",
        "List will the items :\n",
        "\n",
        "    lst = ['abc',123,32.43]"
      ],
      "metadata": {
        "id": "G75A8rnVlM5N"
      }
    },
    {
      "cell_type": "markdown",
      "source": [
        "**2. In a list of values stored in a variable called spam, how would you assign the value &#39;hello&#39; as the\n",
        "third value? (Assume [2, 4, 6, 8, 10] are in spam.)\n",
        "Let&#39;s pretend the spam includes the list [&#39;a&#39;, &#39;b&#39;, &#39;c&#39;, &#39;d&#39;] for the next three queries.**\n",
        "\n",
        "--> spam[2] = 'hello'"
      ],
      "metadata": {
        "id": "pa_1dlXDlQts"
      }
    },
    {
      "cell_type": "markdown",
      "source": [
        "**3. What is the value of spam[int(int(&#39;3&#39; * 2) / 11)]?**\n",
        "\n",
        "--> It will print 4th item in the list that is 'd'.\n",
        "\n",
        "int('3'* 2) --> 33\n",
        "\n",
        "int(33/11) --> 3\n",
        "\n",
        "spam[3] --> 'd'"
      ],
      "metadata": {
        "id": "wojE-BqUlXYj"
      }
    },
    {
      "cell_type": "markdown",
      "source": [
        "**4. What is the value of spam[-1]?**\n",
        "--> Value will be last element 'd'."
      ],
      "metadata": {
        "id": "YdLfJE_FlhtT"
      }
    },
    {
      "cell_type": "markdown",
      "source": [
        "**5. What is the value of spam[:2]? Let&#39;s pretend bacon has the list [3.14, &#39;cat,&#39; 11, &#39;cat,&#39; True] for the next three questions.**\n",
        "\n",
        "--> It will return ['a','b']."
      ],
      "metadata": {
        "id": "85B_rXoUll7e"
      }
    },
    {
      "cell_type": "markdown",
      "source": [
        "**6. What is the value of bacon.index(&#39;cat&#39;)?**\n",
        "\n",
        "--> It will return 1."
      ],
      "metadata": {
        "id": "60A7DS8ylxCO"
      }
    },
    {
      "cell_type": "markdown",
      "source": [
        "**7. How does bacon.append(99) change the look of the list value in bacon?**\n",
        "\n",
        "--> [3.14,'cat',11,'cat',True,99]"
      ],
      "metadata": {
        "id": "c8eWyANol2RX"
      }
    },
    {
      "cell_type": "markdown",
      "source": [
        "**8. How does bacon.remove(&#39;cat&#39;) change the look of the list in bacon?**\n",
        "\n",
        "--> bacon.remove(&#39;cat&#39;)  will remove first instance of the cat and the list will become [3.14,11,'cat',True,99] ."
      ],
      "metadata": {
        "id": "H7I-0JoRl6eu"
      }
    },
    {
      "cell_type": "markdown",
      "source": [
        "**9. What are the list concatenation and list replication operators?**\n",
        "\n",
        "--> List conactination user '+' operator to join the 2 list into a new list whereas list replication uses '*' operator to replicate all the element in the new list."
      ],
      "metadata": {
        "id": "iaA8dQ6Fl_Ji"
      }
    },
    {
      "cell_type": "markdown",
      "source": [
        "**10. What is difference between the list methods append() and insert()?**\n",
        "\n",
        "--> Append method will append the element to the end of the list whereas the insert method is use to add the element to a specific index."
      ],
      "metadata": {
        "id": "qzfcxfc3mC66"
      }
    },
    {
      "cell_type": "markdown",
      "source": [
        "**11. What are the two methods for removing items from a list?**\n",
        "\n",
        "--> The pop method which removes the last element and the remove method which removes the first instance of the element."
      ],
      "metadata": {
        "id": "3vg1esBFmG_O"
      }
    },
    {
      "cell_type": "markdown",
      "source": [
        "**12. Describe how list values and string values are identical.**\n",
        "\n",
        "--> Both the values contains ordered element and both can be sliced and indexed. List support and type of data and it is mutable whereas string are immutable and contains sequence of character."
      ],
      "metadata": {
        "id": "9f28WAZMmRpu"
      }
    },
    {
      "cell_type": "markdown",
      "source": [
        "**13. What&#39;s the difference between tuples and lists?**\n",
        "\n",
        "--> List are mutable and uses squared braces whereas tuple are immutable and uses circle braces '()'"
      ],
      "metadata": {
        "id": "U4nMczEsmqSC"
      }
    },
    {
      "cell_type": "markdown",
      "source": [
        "**14. How do you type a tuple value that only contains the integer 42?**\n",
        "\n",
        "--> my_tuple = (49,)\n",
        "We need to write comma after 49 to make is as a tuple else it will be interpretate as a int in python."
      ],
      "metadata": {
        "id": "rtmyw3pVmt1M"
      }
    },
    {
      "cell_type": "markdown",
      "source": [
        "**15. How do you get a list value&#39;s tuple form? How do you get a tuple value&#39;s list form?**\n",
        "\n",
        "--> We have to typecast List to make as a tuple\n",
        "\n",
        "    my_list = [1,2,4]\n",
        "    my_tuple = (my_list)\n",
        "\n",
        "\n",
        "for converting tuple to list we have to do typcast tuple to a list,\n",
        "    my_tuple = (1,2,3)\n",
        "    my_list = list(my_tuple)\n"
      ],
      "metadata": {
        "id": "6hAYxATumw7k"
      }
    },
    {
      "cell_type": "markdown",
      "source": [
        "**16. Variables that &quot;contain&quot; list values are not necessarily lists themselves. Instead, what do they\n",
        "contain?**\n",
        "\n",
        "--> Variable that \"contains\" list stores the reference to the list objects. That varaible stores the reference of the memory where the list is stored. When we assing a list variable to new variable it copies the reference of the list it will not create a copy of the list."
      ],
      "metadata": {
        "id": "usdEkM5amzs3"
      }
    },
    {
      "cell_type": "markdown",
      "source": [
        "**17. How do you distinguish between copy.copy() and copy.deepcopy()?**\n",
        "\n",
        "--> The fuction copy.copy() will create a shodow copy of the list i.e. it will create a new list but variable inside it still referencing the original list.On the other hand , copy.deepcopy() will create a entire new list independent of the original list."
      ],
      "metadata": {
        "id": "R2aNN5eJm55Q"
      }
    }
  ]
}