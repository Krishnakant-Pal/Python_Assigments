{
  "nbformat": 4,
  "nbformat_minor": 0,
  "metadata": {
    "colab": {
      "provenance": [],
      "authorship_tag": "ABX9TyP9BEdggrH+nMR37n9gOHt6"
    },
    "kernelspec": {
      "name": "python3",
      "display_name": "Python 3"
    },
    "language_info": {
      "name": "python"
    }
  },
  "cells": [
    {
      "cell_type": "markdown",
      "source": [
        "**1. Why are functions advantageous to have in your programs?**\n",
        "\n",
        "--> Fuction allows us to reuse the block of code multiple times which saves coding time and allows use to make more complex programs easily."
      ],
      "metadata": {
        "id": "c1i3F4l4OXde"
      }
    },
    {
      "cell_type": "markdown",
      "source": [
        "**2. When does the code in a function run: when it&#39;s specified or when it&#39;s called?**\n",
        "\n",
        "--> Fuction will run when is it called and after execution if fuction is coded to return then it will return some value or print something. Then the program will continue from the next line."
      ],
      "metadata": {
        "id": "V1hxGkLoObWt"
      }
    },
    {
      "cell_type": "markdown",
      "source": [
        "\n",
        "**3. What statement creates a function?**\n",
        "\n",
        "--> def fuction_name() statment will create fuction.\n"
      ],
      "metadata": {
        "id": "vrIK_bSgOimm"
      }
    },
    {
      "cell_type": "code",
      "source": [
        "def fuction_hello(name):\n",
        "    print(f\"Hello {name}.\")\n",
        "\n",
        "fuction_hello(\"Krishnakant\")"
      ],
      "metadata": {
        "colab": {
          "base_uri": "https://localhost:8080/"
        },
        "id": "tV7Q4V9aeJsu",
        "outputId": "4b601048-967f-4dc2-bd18-b8d524459215"
      },
      "execution_count": null,
      "outputs": [
        {
          "output_type": "stream",
          "name": "stdout",
          "text": [
            "Hello Krishnakant.\n"
          ]
        }
      ]
    },
    {
      "cell_type": "markdown",
      "source": [
        "**4. What is the difference between a function and a function call?**\n",
        "\n",
        "Fuction is the actual fuction is defined and fuction call is when that fuction is called to excecute."
      ],
      "metadata": {
        "id": "Y4-6qkebOmWX"
      }
    },
    {
      "cell_type": "markdown",
      "source": [
        "**5. How many global scopes are there in a Python program? How many local scopes?**\n",
        "\n",
        "--> There is one global scope,variable that is defined outside fuction block of code. These variable can be accessed anywhere in the programe.\n",
        "\n",
        "There is one local scope,variable that is defined inside fuction block of code.These variable can only be accessed inside fuction and they are destroyed after the excecution of the fuction.\n",
        "\n",
        "if we want to define global variable inside fuction then we can use global keyword."
      ],
      "metadata": {
        "id": "qq9AJCOVOpQY"
      }
    },
    {
      "cell_type": "markdown",
      "source": [
        "**6. What happens to variables in a local scope when the function call returns?**\n",
        "\n",
        "--> local scope variable is coded inside the fuctions and they are only activated when the fuction calls and after the fuction call they are destroyed."
      ],
      "metadata": {
        "id": "eH5Idk1lOx2h"
      }
    },
    {
      "cell_type": "markdown",
      "source": [
        "**7. What is the concept of a return value? Is it possible to have a return value in an expression?**\n",
        "\n",
        "--> Return value is the value that is returned by the fuction to the fuction caller after the excution of the fuction when return statement is used to define the fuction. Yes , It is possible to have a return value in an expression\n"
      ],
      "metadata": {
        "id": "P4ldS3JmO045"
      }
    },
    {
      "cell_type": "markdown",
      "source": [
        "**8. If a function does not have a return statement, what is the return value of a call to that function?**\n",
        "\n",
        "--> When return value is not defined in the fuction it will return None type."
      ],
      "metadata": {
        "id": "y-xba_PGO5NZ"
      }
    },
    {
      "cell_type": "markdown",
      "source": [
        "**9. How do you make a function variable refer to the global variable?**\n",
        "\n",
        "--> We should put the global keyword before varialble while defining the variables."
      ],
      "metadata": {
        "id": "jPilDfHCO9Kq"
      }
    },
    {
      "cell_type": "markdown",
      "source": [
        "**10. What is the data type of None?**\n",
        "\n",
        "--> Data type of None is Nonetype. In python,None represents the absence of any value."
      ],
      "metadata": {
        "id": "pZQohsy2PCki"
      }
    },
    {
      "cell_type": "markdown",
      "source": [
        "**11. What does the sentence import areallyourpetsnamederic do?**\n",
        "\n",
        "-->It will import the areallyourpetsnamederic library."
      ],
      "metadata": {
        "id": "dW5q9KqiPFpa"
      }
    },
    {
      "cell_type": "markdown",
      "source": [
        "***12. If you had a bacon() feature in a spam module, what would you call it after importing spam?***\n",
        "\n",
        "-->\n",
        "spam is the module and bacon is the fuction and to access the fuction,\n",
        "\n",
        "    import spam\n",
        "    \n",
        "    spam.bacon()\n"
      ],
      "metadata": {
        "id": "T7JEFQnYPJEC"
      }
    },
    {
      "cell_type": "markdown",
      "source": [
        "**13. What can you do to save a programme from crashing if it encounters an error?**\n",
        "\n",
        "--> I will code try and except block in the program so that if any error occurs it will not crash, will raise exception and it can be addressed in except block."
      ],
      "metadata": {
        "id": "xKmpLrsvPM-b"
      }
    },
    {
      "cell_type": "markdown",
      "source": [
        "**14. What is the purpose of the try clause? What is the purpose of the except clause?**\n",
        "\n",
        "--> Try clause is used to try some block of code that might give us the error or exception. If that code raise any error we can address that error in except.\n",
        "Purpose of except is to handle that error or exception in the try block. We can code multiple try and exception to handle diffrent scenarios of exception in our code."
      ],
      "metadata": {
        "id": "JnLIrt5JPPik"
      }
    }
  ]
}