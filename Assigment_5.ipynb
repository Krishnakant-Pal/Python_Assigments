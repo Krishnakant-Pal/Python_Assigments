{
  "nbformat": 4,
  "nbformat_minor": 0,
  "metadata": {
    "colab": {
      "provenance": [],
      "authorship_tag": "ABX9TyOnXNhXm9EWuML64FIE1wBo",
      "include_colab_link": true
    },
    "kernelspec": {
      "name": "python3",
      "display_name": "Python 3"
    },
    "language_info": {
      "name": "python"
    }
  },
  "cells": [
    {
      "cell_type": "markdown",
      "metadata": {
        "id": "view-in-github",
        "colab_type": "text"
      },
      "source": [
        "<a href=\"https://colab.research.google.com/github/Krishnakant-Pal/Python_Assigments/blob/main/Assigment_5.ipynb\" target=\"_parent\"><img src=\"https://colab.research.google.com/assets/colab-badge.svg\" alt=\"Open In Colab\"/></a>"
      ]
    },
    {
      "cell_type": "markdown",
      "source": [
        "**1. What does an empty dictionary&#39;s code look like?**\n",
        "\n",
        "--> Empty_dictionary = {}"
      ],
      "metadata": {
        "id": "s0T0mfnCnn47"
      }
    },
    {
      "cell_type": "markdown",
      "source": [
        "**2. What is the value of a dictionary value with the key &#39;foo&#39; and the value 42?**\n",
        "\n",
        "--> DICT = {'foo' : 42}"
      ],
      "metadata": {
        "id": "cFnagLH6nsnN"
      }
    },
    {
      "cell_type": "markdown",
      "source": [
        "**3. What is the most significant distinction between a dictionary and a list?**\n",
        "\n",
        "--> Dictionary cotains list of KEys and their values whereas list have list of ordered elements."
      ],
      "metadata": {
        "id": "ttUBKHv-nwd0"
      }
    },
    {
      "cell_type": "markdown",
      "source": [
        "**4. What happens if you try to access spam[&#39;foo&#39;] if spam is {&#39;bar&#39;: 100}?**\n",
        "\n",
        "--> You will get Keyerror saying spam[\"foo\"] doesn't exist in dictionary."
      ],
      "metadata": {
        "id": "4zP1sFxcnz0h"
      }
    },
    {
      "cell_type": "markdown",
      "source": [
        "**5. If a dictionary is stored in spam, what is the difference between the expressions &#39;cat&#39; in spam and\n",
        "&#39;cat&#39; in spam.keys()?**\n",
        "\n",
        "--> They will output the same boolean value but spam.keys() searches cat in dictionary keys."
      ],
      "metadata": {
        "id": "vvI32fPsn20E"
      }
    },
    {
      "cell_type": "markdown",
      "source": [
        "**6. If a dictionary is stored in spam, what is the difference between the expressions &#39;cat&#39; in spam and\n",
        "&#39;cat&#39; in spam.values()?**\n",
        "\n",
        "--> Both will return diffrent boolean values since in 'cat' in spam it is searching in cat in entire dictonary spam whereas 'cat in spam.valuse() is searching cat in dictonary values"
      ],
      "metadata": {
        "id": "EXoPoB2Fn_UF"
      }
    },
    {
      "cell_type": "markdown",
      "source": [
        "**7. What is a shortcut for the following code?\n",
        "if &#39;color&#39; not in spam:\n",
        "spam[&#39;color&#39;] = &#39;black&#39;**\n",
        "\n",
        "--> spam.setdefault('color', 'black')\n"
      ],
      "metadata": {
        "id": "2CgRsOI4oDZj"
      }
    },
    {
      "cell_type": "markdown",
      "source": [
        "**8. How do you &quot;pretty print&quot; dictionary values using which module and function?**\n",
        "\n",
        "--> From pprint we have to import pprint fuction and use it."
      ],
      "metadata": {
        "id": "-G3m6idMoJpa"
      }
    },
    {
      "cell_type": "code",
      "source": [
        "import pprint\n",
        "my_dict = {'a': 1, 'b': 2, 'c': 3,'d':[1,2,34,2,3]}\n",
        "pprint.pprint(my_dict,depth = 2)"
      ],
      "metadata": {
        "colab": {
          "base_uri": "https://localhost:8080/"
        },
        "id": "3ThNX9nnquf5",
        "outputId": "b02c0555-6b61-4df9-aad1-2427c2bada18"
      },
      "execution_count": 1,
      "outputs": [
        {
          "output_type": "stream",
          "name": "stdout",
          "text": [
            "{'a': 1, 'b': 2, 'c': 3, 'd': [1, 2, 34, 2, 3]}\n"
          ]
        }
      ]
    },
    {
      "cell_type": "code",
      "source": [],
      "metadata": {
        "id": "D9UzBNnpqxKF"
      },
      "execution_count": null,
      "outputs": []
    }
  ]
}