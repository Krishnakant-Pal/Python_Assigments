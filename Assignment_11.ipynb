{
  "nbformat": 4,
  "nbformat_minor": 0,
  "metadata": {
    "colab": {
      "provenance": [],
      "authorship_tag": "ABX9TyPi5knHgNIK41QGdp+q1oCT",
      "include_colab_link": true
    },
    "kernelspec": {
      "name": "python3",
      "display_name": "Python 3"
    },
    "language_info": {
      "name": "python"
    }
  },
  "cells": [
    {
      "cell_type": "markdown",
      "metadata": {
        "id": "view-in-github",
        "colab_type": "text"
      },
      "source": [
        "<a href=\"https://colab.research.google.com/github/Krishnakant-Pal/Python_Assigments/blob/main/Assignment_11.ipynb\" target=\"_parent\"><img src=\"https://colab.research.google.com/assets/colab-badge.svg\" alt=\"Open In Colab\"/></a>"
      ]
    },
    {
      "cell_type": "markdown",
      "source": [
        "**1. What is the role of the 'else' block in a try-except statement? Provide an example\n",
        "scenario where it would be useful.**"
      ],
      "metadata": {
        "id": "jNyM099u93SV"
      }
    },
    {
      "cell_type": "markdown",
      "source": [
        "--> Else block inside try-except statement runs when only no exception is raised. It is useful when we want make sure the block of code only runs when ther is no exception or error.\n",
        "\n",
        "Example: Checking the file exist before reading it."
      ],
      "metadata": {
        "id": "orBSi--P95aV"
      }
    },
    {
      "cell_type": "code",
      "source": [
        "def read_and_process_file(file_name):\n",
        "    try:\n",
        "        with open(file_name, 'r') as file:\n",
        "            content = file.read()\n",
        "    except FileNotFoundError:\n",
        "        print(f\"The file '{file_name}' was not found.\")\n",
        "    else:\n",
        "        # If the file was successfully read\n",
        "        # Perform additional processing\n",
        "        word_count = len(content.split())\n",
        "        print(f\"Word count in '{file_name}': {word_count}\")\n",
        "\n",
        "# Example usage:\n",
        "read_and_process_file('sample.txt')  # Assuming 'sample.txt' exists\n"
      ],
      "metadata": {
        "colab": {
          "base_uri": "https://localhost:8080/"
        },
        "id": "-q_wjPAB94fF",
        "outputId": "c8ba1339-5528-44a5-ce5b-e698531d0e31"
      },
      "execution_count": null,
      "outputs": [
        {
          "output_type": "stream",
          "name": "stdout",
          "text": [
            "The file 'sample.txt' was not found.\n"
          ]
        }
      ]
    },
    {
      "cell_type": "code",
      "source": [],
      "metadata": {
        "id": "Y2T9bH2BBK-t"
      },
      "execution_count": null,
      "outputs": []
    },
    {
      "cell_type": "markdown",
      "source": [
        "**2. Can a try-except block be nested inside another try-except block? Explain with an\n",
        "example.**"
      ],
      "metadata": {
        "id": "1HKH88L_BS7A"
      }
    },
    {
      "cell_type": "markdown",
      "source": [
        "Try except blocks can be nested when we have to do exception handling in different level of the program."
      ],
      "metadata": {
        "id": "-u29wWHwBahV"
      }
    },
    {
      "cell_type": "markdown",
      "source": [
        "Example -\n",
        "\n",
        "In the below example outer try block code takes the input from the user and converts it into the integer if any error occurs it will raise exception. In inner try block if we get the ZeroDivisionError then it will raise exception."
      ],
      "metadata": {
        "id": "CV76dnMHBdcF"
      }
    },
    {
      "cell_type": "code",
      "source": [
        "try:\n",
        "    # Outer try block\n",
        "    num = int(input(\"Enter a number: \"))\n",
        "\n",
        "    try:\n",
        "        # Inner try block\n",
        "        result = 10 / num  # This can raise a ZeroDivisionError\n",
        "        print(f\"Result: {result}\")\n",
        "    except ZeroDivisionError:\n",
        "        print(\"Inner except: Division by zero\")\n",
        "\n",
        "except ValueError:\n",
        "    print(\"Outer except: Invalid input (not a number)\")\n"
      ],
      "metadata": {
        "colab": {
          "base_uri": "https://localhost:8080/"
        },
        "id": "9w0ZO9iOBUzY",
        "outputId": "afeef22b-d1dd-4a15-c1f5-3d42ea9dcb5e"
      },
      "execution_count": null,
      "outputs": [
        {
          "output_type": "stream",
          "name": "stdout",
          "text": [
            "Enter a number: 10\n",
            "Result: 1.0\n"
          ]
        }
      ]
    },
    {
      "cell_type": "markdown",
      "source": [
        "**3. How can you create a custom exception class in Python? Provide an example that\n",
        "demonstrates its usage.**"
      ],
      "metadata": {
        "id": "0ownqkEhCE-N"
      }
    },
    {
      "cell_type": "markdown",
      "source": [
        "--> We can create a custom exception class that inherits from the built in class Exeption and define fuctions that raises exceptions based on the application requirements."
      ],
      "metadata": {
        "id": "d_I8pAy4CTRI"
      }
    },
    {
      "cell_type": "code",
      "source": [
        "class CustomError(Exception):\n",
        "    def __init__(self, message):\n",
        "        self.message = message\n",
        "        super().__init__(self.message)\n",
        "\n",
        "# Example usage of the custom exception\n",
        "def check_value(x):\n",
        "    if x < 0:\n",
        "        raise CustomError(\"Value cannot be negative\")\n",
        "\n",
        "# Using the custom exception in a function\n",
        "try:\n",
        "    check_value(-5)\n",
        "except CustomError as e:\n",
        "    print(f\"Custom error caught: {e.message}\")\n"
      ],
      "metadata": {
        "colab": {
          "base_uri": "https://localhost:8080/"
        },
        "id": "ChNU4GQiBhMl",
        "outputId": "028da4b4-ae72-4787-fbc7-61996b08281c"
      },
      "execution_count": null,
      "outputs": [
        {
          "output_type": "stream",
          "name": "stdout",
          "text": [
            "Custom error caught: Value cannot be negative\n"
          ]
        }
      ]
    },
    {
      "cell_type": "markdown",
      "source": [
        "**4. What are some common exceptions that are built-in to Python?**"
      ],
      "metadata": {
        "id": "7oX0lwfVDNuk"
      }
    },
    {
      "cell_type": "markdown",
      "source": [
        "There are various built-in exceptons in python:  \n",
        "1. SyntaxError: It is raised when there's a syntax error in the code.\n",
        "2. IndentationError: Indicates incorrect indentation.\n",
        "3. NameError: It occurs when a local or global name is not found.\n",
        "4. TypeError: It is raised when an operation or function is applied to an object of an inappropriate type.\n",
        "5. ValueError: It is raised when a function receives an argument of the correct type but an inappropriate value.\n",
        "6. FileNotFoundError: It is raised when a file or directory is requested but can't be found.\n",
        "7. IOError: It is mostly raised when an I/O operation fails (e.g., due to a closed file).\n",
        "8. IndexError: It occurs when trying to access an index that is out of range in a sequence.\n",
        "9. KeyError: It is raised when a dictionary key is not found.\n",
        "10. ZeroDivisionError: Occurs when attempting to divide by zero."
      ],
      "metadata": {
        "id": "Dw3fFxagDa75"
      }
    },
    {
      "cell_type": "markdown",
      "source": [
        "**5. What is logging in Python, and why is it important in software development?**\n",
        "\n",
        "\n",
        "\n",
        "\n"
      ],
      "metadata": {
        "id": "qNsX6NSaEooc"
      }
    },
    {
      "cell_type": "markdown",
      "source": [
        "--> In Python, logging is a built-in module that enables developers to record and track events that occur during the execution of a program.\n",
        "\n",
        "It is very important part in the software development for various reasons:\n",
        "1. Debugging: Logging saves the information like error messages,warning and infromation state during execution. This helps to located bugs in the code.\n",
        "2. Monitoring health: By logging several metrics developer can analyse the performance, usage patterns and potential area for optimization or improvement.\n",
        "\n",
        "3. Auditing: Logs provide a historical record of what happened in application.They can be used for auditing, security analysis, or historical investigation.\n",
        "\n",
        "4. Customization and Flexibility: Python's logging module offers a wide range of configuration options. You can set different log levels, output destinations (file, console, database), and message formats according to your needs.\n",
        "\n",
        "5. Clarity and Understanding: Adding logs at strategic points in your code helps other developers (including your future self) understand the program's flow, making the code more readable and maintainable."
      ],
      "metadata": {
        "id": "E0MYaJsxEuO7"
      }
    },
    {
      "cell_type": "markdown",
      "source": [
        "**6. Explain the purpose of log levels in Python logging and provide examples of when\n",
        "each log level would be appropriate.**\n"
      ],
      "metadata": {
        "id": "-i-vb4XKT3l1"
      }
    },
    {
      "cell_type": "markdown",
      "source": [
        "-->\n",
        "In Python logging, log levels define the severity or importance of messages. They help in categorizing and filtering log messages based on their criticality. Python's logging module defines the following log levels:\n",
        "\n",
        "DEBUG: This level is used for detailed information, typically only of interest when diagnosing problems. For example, printing variable values or detailed steps within a function for debugging purposes.\n",
        "\n",
        "INFO: General information about the program's execution. It's typically used to record the program's progress and confirm that things are working as expected. For instance, when a service or application starts and stops, or when certain significant events occur.\n",
        "\n",
        "WARNING: Indicates a potential issue in the code that doesn't necessarily prevent the program from running but might lead to problems in the future. For example, deprecation warnings or resource thresholds approaching their limit.\n",
        "\n",
        "ERROR: These are used to report errors that caused the program to fail to perform some function. For instance, when an operation fails due to an unexpected input or an external service being down.\n",
        "\n",
        "CRITICAL: This level indicates a serious error that might prevent the program from continuing its operation. For example, a severe system failure, loss of connectivity to critical services, or unrecoverable errors.\n",
        "\n",
        "\n",
        "\n",
        "\n",
        "\n",
        "\n",
        "\n"
      ],
      "metadata": {
        "id": "0_50W2LCT6aK"
      }
    },
    {
      "cell_type": "code",
      "source": [],
      "metadata": {
        "id": "AJAK36PJBxQo"
      },
      "execution_count": null,
      "outputs": []
    },
    {
      "cell_type": "markdown",
      "source": [
        "**7. What are log formatters in Python logging, and how can you customise the log\n",
        "message format using formatters?**"
      ],
      "metadata": {
        "id": "FKmCpZ7iiXGz"
      }
    },
    {
      "cell_type": "markdown",
      "source": [
        "--> In python logging, formatter is the object that is used to format the output of the log. The goal of formatter is to customise the logger information to the specific format according to the need of application.\n",
        "\n"
      ],
      "metadata": {
        "id": "EdPhLQI3ipUZ"
      }
    },
    {
      "cell_type": "code",
      "source": [
        "import logging\n",
        "\n",
        "# Creating a logger\n",
        "logger = logging.getLogger(\"example_logger\")\n",
        "logger.setLevel(logging.DEBUG)\n",
        "\n",
        "# Creating a formatter\n",
        "formatter = logging.Formatter(\"%(asctime)s - %(levelname)s - %(message)s\")\n",
        "\n",
        "# Creating a handler and set the formatter\n",
        "file_handler = logging.FileHandler(\"example.log\")\n",
        "file_handler.setFormatter(formatter)\n",
        "\n",
        "# Adding the handler to the logger\n",
        "logger.addHandler(file_handler)\n",
        "\n",
        "# Logging some messages\n",
        "logger.debug(\"This is a debug message\")\n",
        "logger.info(\"This is an info message\")\n",
        "logger.warning(\"This is a warning message\")\n",
        "logger.error(\"This is an error message\")\n",
        "logger.critical(\"This is a critical message\")\n"
      ],
      "metadata": {
        "id": "uqPqtKxDioo1",
        "colab": {
          "base_uri": "https://localhost:8080/"
        },
        "outputId": "fa388685-877a-4727-a888-8183867382ee"
      },
      "execution_count": 7,
      "outputs": [
        {
          "output_type": "stream",
          "name": "stderr",
          "text": [
            "DEBUG:example_logger:This is a debug message\n",
            "INFO:example_logger:This is an info message\n",
            "WARNING:example_logger:This is a warning message\n",
            "ERROR:example_logger:This is an error message\n",
            "CRITICAL:example_logger:This is a critical message\n"
          ]
        }
      ]
    },
    {
      "cell_type": "markdown",
      "source": [
        "In the above code, we have create a logger as example_logger and set the logging level as debug. Then formatter is defined using logging.formatter and the format is timestamp,level name and logging message.The created a file called example.log where all the log will be stored and set the formming of log using setFormatter method. Create a FileHandler to handle logging to a file (\"example.log\"). Then written log messages in all five level in sequence of criticality.\n",
        "\n",
        "\n",
        "\n"
      ],
      "metadata": {
        "id": "EjVJh7xlyOXh"
      }
    },
    {
      "cell_type": "markdown",
      "source": [
        "**8. How can you set up logging to capture log messages from multiple modules or\n",
        "classes in a Python application?**\n",
        "\n",
        "\n",
        "\n"
      ],
      "metadata": {
        "id": "5JVq7rQ1cfmH"
      }
    },
    {
      "cell_type": "markdown",
      "source": [
        "--> To capture log messages from multiple modules or classes in a Python application, you can follow a modular approach by creating separate loggers for each module or class. Each logger can have its own configuration, and messages will be directed to the appropriate logger based on their origin."
      ],
      "metadata": {
        "id": "MZQylsGIcor4"
      }
    },
    {
      "cell_type": "markdown",
      "source": [
        "**9. What is the difference between the logging and print statements in Python? When\n",
        "should you use logging over print statements in a real-world application?**"
      ],
      "metadata": {
        "id": "o0E7rQgTdYSz"
      }
    },
    {
      "cell_type": "markdown",
      "source": [
        "-->\n",
        "Logging and print statements serve different purposes in Python, and their usage depends on the context and requirements of your application. Here are some key differences between logging and print statements:\n",
        "\n",
        "Destination and Configuration:\n",
        "\n",
        "Print Statements: Output is directed to the standard output (console) by default. You can't easily redirect or configure the output without modifying the code.\n",
        "Logging: Output can be configured to go to different destinations, such as a file, console, or even a remote server. Logging provides more flexibility in handling and configuring output destinations.\n",
        "\n",
        "Granularity:\n",
        "\n",
        "Print Statements: Typically used for simple debugging and quick checks during development. It's often used to inspect variable values and flow control.\n",
        "Logging: Offers different log levels (DEBUG, INFO, WARNING, ERROR, CRITICAL), allowing you to control the granularity of the information being logged. This helps in distinguishing between different levels of severity in your application.\n",
        "\n",
        "Flexibility:\n",
        "\n",
        "Print Statements: Limited formatting options. You need to concatenate variables and convert non-string types to strings explicitly.\n",
        "Logging: Provides more advanced formatting options through log formatters. You can customize the format of log messages, include additional information, and control the structure of the log output.\n",
        "\n",
        "Runtime Configuration:\n",
        "\n",
        "Print Statements: Often require manual removal or commenting out when debugging is complete.\n",
        "Logging: Can be dynamically configured at runtime without modifying the source code. This is particularly useful for adjusting the logging behavior in different environments (e.g., development, testing, production) without changing the code.\n",
        "\n",
        "Severity Levels:\n",
        "\n",
        "Print Statements: Do not have inherent severity levels. All print statements are treated equally.\n",
        "Logging: Allows you to categorize messages by severity, helping you prioritize and filter log output based on the importance of the information.\n",
        "\n",
        "\n",
        "\n",
        "**In a real-world application, using logging over print statements is generally\n",
        "preferred for several reasons:**\n",
        "\n",
        "Granular Control: Logging allows you to control the level of detail in your output by using different log levels. This can be crucial for understanding and debugging complex systems.\n",
        "\n",
        "Configurability: With logging, you can configure where the log messages go (e.g., console, file, network), the format of the messages, and the logging level dynamically without modifying your code.\n",
        "\n",
        "Maintainability: Using logging makes it easier to maintain and manage your application's output. You can selectively enable or disable logging for specific modules or components.\n",
        "\n",
        "Production Readiness: Logging is better suited for production environments where debugging information should be available without exposing sensitive information to end-users."
      ],
      "metadata": {
        "id": "MU2ZwVywdZm6"
      }
    },
    {
      "cell_type": "markdown",
      "source": [
        "**10. Write a Python program that logs a message to a file named \"app.log\" with the\n",
        "following requirements:\n",
        "● The log message should be \"Hello, World!\"\n",
        "● The log level should be set to \"INFO.\"\n",
        "● The log file should append new log entries without overwriting previous ones.**"
      ],
      "metadata": {
        "id": "85zAtx6Ei3r6"
      }
    },
    {
      "cell_type": "code",
      "source": [
        "import logging\n",
        "\n",
        "# Creating a logger\n",
        "logger = logging.getLogger(\"mylogger\")\n",
        "logger.setLevel(logging.DEBUG)\n",
        "\n",
        "# Create a fommater\n",
        "formatter = logging.Formatter(\"%(asctime)s - %(levelname)s - %(message)s\")\n",
        "\n",
        "# Adding a filehandler\n",
        "file_handler = logging.FileHandler(\"app.log\")\n",
        "file_handler.setFormatter(formatter)\n",
        "\n",
        "# Adding the handler to the logger\n",
        "logger.addHandler(file_handler)\n",
        "\n",
        "logger.info(\"Hello, World\")"
      ],
      "metadata": {
        "colab": {
          "base_uri": "https://localhost:8080/"
        },
        "id": "tYxMa82D5Qzl",
        "outputId": "041c49e8-ca48-445a-80fc-8a40c7a54eb5"
      },
      "execution_count": 8,
      "outputs": [
        {
          "output_type": "stream",
          "name": "stderr",
          "text": [
            "INFO:mylogger:Hello, World\n"
          ]
        }
      ]
    },
    {
      "cell_type": "markdown",
      "source": [
        "**11. Create a Python program that logs an error message to the console and a file named\n",
        "\"errors.log\" if an exception occurs during the program's execution. The error\n",
        "message should include the exception type and a timestamp.**"
      ],
      "metadata": {
        "id": "A2W6IbCSlkHA"
      }
    },
    {
      "cell_type": "code",
      "source": [
        "import logging\n",
        "from datetime import datetime\n",
        "import traceback\n",
        "\n",
        "# Creating a logger\n",
        "logger = logging.getLogger(\"mylogger\")\n",
        "logger.setLevel(logging.DEBUG)\n",
        "\n",
        "# Create a fommater\n",
        "formatter = logging.Formatter(\"%(asctime)s - %(levelname)s - %(message)s\")\n",
        "\n",
        "# Adding a filehandler\n",
        "file_handler = logging.FileHandler(\"error.log\")\n",
        "file_handler.setFormatter(formatter)\n",
        "\n",
        "# Adding the handler to the logger\n",
        "logger.addHandler(file_handler)\n",
        "\n",
        "try :\n",
        "    a = 10/0\n",
        "\n",
        "except Exception as e:\n",
        "    error_message = f\"Exception Type: {type(e).__name__}, Timestamp: {datetime.now()}\\n\"\n",
        "    error_message += traceback.format_exc()\n",
        "    logger.error(error_message)\n",
        "    print(f\"An error occurred: {e}\")\n"
      ],
      "metadata": {
        "colab": {
          "base_uri": "https://localhost:8080/"
        },
        "id": "zFyCMogJ5Yzb",
        "outputId": "3d277a59-227c-4000-8fff-b85fcffe629f"
      },
      "execution_count": 15,
      "outputs": [
        {
          "output_type": "stream",
          "name": "stderr",
          "text": [
            "ERROR:mylogger:Exception Type: ZeroDivisionError, Timestamp: 2023-11-28 11:16:39.198252\n",
            "Traceback (most recent call last):\n",
            "  File \"<ipython-input-15-bca07e06a874>\", line 20, in <cell line: 19>\n",
            "    a = 10/0\n",
            "ZeroDivisionError: division by zero\n",
            "\n"
          ]
        },
        {
          "output_type": "stream",
          "name": "stdout",
          "text": [
            "An error occurred: division by zero\n"
          ]
        }
      ]
    },
    {
      "cell_type": "code",
      "source": [],
      "metadata": {
        "id": "hKIwGL9F5ajT"
      },
      "execution_count": null,
      "outputs": []
    }
  ]
}