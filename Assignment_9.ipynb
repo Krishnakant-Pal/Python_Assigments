{
  "nbformat": 4,
  "nbformat_minor": 0,
  "metadata": {
    "colab": {
      "provenance": [],
      "authorship_tag": "ABX9TyODMFiCbLieqYArED2PHIch",
      "include_colab_link": true
    },
    "kernelspec": {
      "name": "python3",
      "display_name": "Python 3"
    },
    "language_info": {
      "name": "python"
    }
  },
  "cells": [
    {
      "cell_type": "markdown",
      "metadata": {
        "id": "view-in-github",
        "colab_type": "text"
      },
      "source": [
        "<a href=\"https://colab.research.google.com/github/Krishnakant-Pal/Python_Assigments/blob/main/Assignment_9.ipynb\" target=\"_parent\"><img src=\"https://colab.research.google.com/assets/colab-badge.svg\" alt=\"Open In Colab\"/></a>"
      ]
    },
    {
      "cell_type": "markdown",
      "source": [
        "**1. What is a lambda function in Python, and how does it differ from a regular function?**"
      ],
      "metadata": {
        "id": "kDkgPQ8IrsM_"
      }
    },
    {
      "cell_type": "markdown",
      "source": [
        "--> Lambda fucions are small and simple fuction without name which can be defined easily without naming them. There are same as the userdefined fuction but they are generally used when we don't want to reuse the fuction and used for quick simple usecases. For defining the lambda fuction 'lambda' keyword is used."
      ],
      "metadata": {
        "id": "ISiOVOm8sJGN"
      }
    },
    {
      "cell_type": "markdown",
      "source": [
        "**2. Can a lambda function in Python have multiple arguments? If yes, how can you define and use\n",
        "them?**"
      ],
      "metadata": {
        "id": "is1_CcPrtLKx"
      }
    },
    {
      "cell_type": "markdown",
      "source": [
        "--> Yes, Lambda fuction in python have multiple arguments.\n",
        "\n",
        "\n",
        "It can be defined by lambda keyword followed by arguments with commas then colon then results.\n",
        "\n"
      ],
      "metadata": {
        "id": "TYwEDi1Dtqhr"
      }
    },
    {
      "cell_type": "code",
      "source": [
        "add = lambda x, y: x + y\n",
        "result = add(5, 3)\n",
        "print(result)\n"
      ],
      "metadata": {
        "colab": {
          "base_uri": "https://localhost:8080/"
        },
        "id": "ClCndR1d9mVy",
        "outputId": "c275abed-9fc7-498c-e583-f3016516b6fd"
      },
      "execution_count": null,
      "outputs": [
        {
          "output_type": "stream",
          "name": "stdout",
          "text": [
            "8\n"
          ]
        }
      ]
    },
    {
      "cell_type": "markdown",
      "source": [
        "**3. How are lambda functions typically used in Python? Provide an example use case.**"
      ],
      "metadata": {
        "id": "P9nEEj5Rvmd8"
      }
    },
    {
      "cell_type": "markdown",
      "source": [
        "Lambda fucion have many use cases for simple task.\n",
        "example:-\n",
        "In Mapping,lambda functions are used with the map() function to apply a function to each element of a list and create a new list with the results.\n"
      ],
      "metadata": {
        "id": "rkb-MFoBv_yA"
      }
    },
    {
      "cell_type": "code",
      "source": [
        "# Applying square on the list\n",
        "numbers = [1, 2, 3, 4, 5]\n",
        "squared_numbers = list(map(lambda x: x ** 2, numbers))\n",
        "print(squared_numbers)"
      ],
      "metadata": {
        "colab": {
          "base_uri": "https://localhost:8080/"
        },
        "id": "MDyL9MJvt1Uw",
        "outputId": "4dcbce60-811f-4a57-a367-3e4be13f3837"
      },
      "execution_count": null,
      "outputs": [
        {
          "output_type": "stream",
          "name": "stdout",
          "text": [
            "[1, 4, 9, 16, 25]\n"
          ]
        }
      ]
    },
    {
      "cell_type": "markdown",
      "source": [
        "**4. What are the advantages and limitations of lambda functions compared to regular functions in\n",
        "Python?**"
      ],
      "metadata": {
        "id": "v__5NuXZwqe-"
      }
    },
    {
      "cell_type": "markdown",
      "source": [
        "--> Lambda fuction have many advantages due its simplicity.\n",
        "\n",
        "\n",
        "Advantages of Lambda Functions:\n",
        "* Lambda functions are more concise and allow you to define small, anonymous functions in a single line.\n",
        "\n",
        "* They imporve code readability as they are suitable for simple, short operations by avoiding the need to define a separate named function.\n",
        "\n",
        "* Lambda functions are often used for one-time or short-lived operations, especially when you need to pass functions as arguments to higher-order functions (e.g., sorted(), map(), filter()).\n",
        "\n",
        "* They don't require a function name, making them suitable for situations where you don't need to reference the function elsewhere in your code.\n",
        "\n",
        "Limitations of Lambda Functions:\n",
        "\n",
        "* They are limited to a single expression, which means they cannot contain complex logic, multiple statements, or assignments.\n",
        "\n",
        "* They are not reusable by name, so if you need the same function in multiple places, a regular function is a better choice.\n",
        "\n",
        "* Lambda functions don't support docstrings or other forms of documentation, making it harder to provide meaningful descriptions.\n",
        "\n",
        "* When the operation becomes more complex, using a lambda function can reduce code readability, and it's often better to use a regular function with a clear name and documentation."
      ],
      "metadata": {
        "id": "Qpu9WpGJws6T"
      }
    },
    {
      "cell_type": "markdown",
      "source": [
        "**5. Are lambda functions in Python able to access variables defined outside of their own scope?**\n"
      ],
      "metadata": {
        "id": "v4Q682zqyANe"
      }
    },
    {
      "cell_type": "markdown",
      "source": [
        "--> Yes, lambda functions in Python can access variables defined outside of their own scope. Lambda functions can access variables from the enclosing scope, which is known as a closure. This is a feature of Python's lambda functions, and it allows them to capture and use variables that are in the surrounding context."
      ],
      "metadata": {
        "id": "rs4o_V1HApZw"
      }
    },
    {
      "cell_type": "code",
      "source": [
        "x = 10\n",
        "\n",
        "my_lambda = lambda y: x + y\n",
        "\n",
        "result = my_lambda(5)\n",
        "\n",
        "print(result)\n",
        "\n"
      ],
      "metadata": {
        "id": "EQWF6OUFwDmy",
        "colab": {
          "base_uri": "https://localhost:8080/"
        },
        "outputId": "490df58d-523c-4b06-a9ae-15dbae7c608b"
      },
      "execution_count": 8,
      "outputs": [
        {
          "output_type": "stream",
          "name": "stdout",
          "text": [
            "15\n"
          ]
        }
      ]
    },
    {
      "cell_type": "markdown",
      "source": [
        "In this example, the lambda function my_lambda takes an argument y and uses the variable x from the outer scope. The lambda function \"closes over\" the variable x, making it accessible within the lambda's body. When you call my_lambda(5), it adds 5 to the value of x (which is 10), resulting in the output of 15."
      ],
      "metadata": {
        "id": "hnG9iQfkBeuK"
      }
    },
    {
      "cell_type": "markdown",
      "source": [
        "**6. Write a lambda function to calculate the square of a given number.**\n"
      ],
      "metadata": {
        "id": "cQp3vsCY_3Vn"
      }
    },
    {
      "cell_type": "code",
      "source": [
        "square = lambda x: x ** 2\n",
        "num = 5\n",
        "result = square(num)\n",
        "print(f\"The square of number {num} is {result}\")"
      ],
      "metadata": {
        "colab": {
          "base_uri": "https://localhost:8080/"
        },
        "id": "iOq4gQu0CSpO",
        "outputId": "c63a6c85-eacb-4f3d-fb22-c7c118052d15"
      },
      "execution_count": 20,
      "outputs": [
        {
          "output_type": "stream",
          "name": "stdout",
          "text": [
            "The square of number 5 is 25\n"
          ]
        }
      ]
    },
    {
      "cell_type": "markdown",
      "source": [
        "**7. Create a lambda function to find the maximum value in a list of integers.**\n"
      ],
      "metadata": {
        "id": "cilCY_FRC8DF"
      }
    },
    {
      "cell_type": "code",
      "source": [
        "find_max = lambda lst: max(lst)\n",
        "\n",
        "my_list = [4, 7, 1, 9, 12, 3, 5]\n",
        "result = find_max(my_list)\n",
        "print(f\"The maximum value in the list is {result}\")\n"
      ],
      "metadata": {
        "colab": {
          "base_uri": "https://localhost:8080/"
        },
        "id": "Gwg6h11DC9f7",
        "outputId": "1b3b6d3c-598e-4f8b-b865-aa4f5d01de22"
      },
      "execution_count": 15,
      "outputs": [
        {
          "output_type": "stream",
          "name": "stdout",
          "text": [
            "The maximum value in the list is 12\n"
          ]
        }
      ]
    },
    {
      "cell_type": "markdown",
      "source": [
        "**8. Implement a lambda function to filter out all the even numbers from a list of integers.**\n"
      ],
      "metadata": {
        "id": "KOPLMtWO9OUE"
      }
    },
    {
      "cell_type": "code",
      "source": [
        "my_list = [1, 2, 3, 4, 5, 6, 7, 8, 9, 10]\n",
        "\n",
        "filtered_list = list(filter(lambda x: x % 2 == 0, my_list))\n",
        "\n",
        "print(f\"Original list:{my_list} --> filtered list:{filtered_list}\")\n"
      ],
      "metadata": {
        "colab": {
          "base_uri": "https://localhost:8080/"
        },
        "id": "RBKNkvcl9YWp",
        "outputId": "d0d4df5b-3d39-41d5-e740-eb484d2d872f"
      },
      "execution_count": 7,
      "outputs": [
        {
          "output_type": "stream",
          "name": "stdout",
          "text": [
            "Original list:[1, 2, 3, 4, 5, 6, 7, 8, 9, 10] --> filtered list:[2, 4, 6, 8, 10]\n"
          ]
        }
      ]
    },
    {
      "cell_type": "markdown",
      "source": [
        "**9. Write a lambda function to sort a list of strings in ascending order based on the length of each\n",
        "string.**"
      ],
      "metadata": {
        "id": "dz3QH-p-9qVr"
      }
    },
    {
      "cell_type": "code",
      "source": [
        "my_list = [\"apple\", \"banana\", \"cherry\", \"date\", \"fig\"]\n",
        "\n",
        "sorted_list = sorted(my_list, key=lambda x: len(x))\n",
        "\n",
        "print(f\"Original list:{my_list} --> Sorted list:{filtered_list}\")"
      ],
      "metadata": {
        "colab": {
          "base_uri": "https://localhost:8080/"
        },
        "id": "CKZyDDdM9sTi",
        "outputId": "d2b3c14d-13c5-4303-eb69-56afbbb2767d"
      },
      "execution_count": 8,
      "outputs": [
        {
          "output_type": "stream",
          "name": "stdout",
          "text": [
            "Original list:['apple', 'banana', 'cherry', 'date', 'fig'] --> Sorted list:[2, 4, 6, 8, 10]\n"
          ]
        }
      ]
    },
    {
      "cell_type": "markdown",
      "source": [
        "**10. Create a lambda function that takes two lists as input and returns a new list containing the common elements between the two lists.**\n"
      ],
      "metadata": {
        "id": "vnIPTjaU_3cM"
      }
    },
    {
      "cell_type": "code",
      "source": [
        "common_elements = lambda list1, list2: [item for item in list1 if item in list2]\n",
        "list1 = [1, 2, 3, 4, 5]\n",
        "list2 = [3, 4, 5, 6, 7]\n",
        "\n",
        "result = common_elements(list1, list2)\n",
        "print(result)\n"
      ],
      "metadata": {
        "colab": {
          "base_uri": "https://localhost:8080/"
        },
        "id": "iEPTH7oo_6xY",
        "outputId": "3108b451-8737-4745-ef71-25f3e1910514"
      },
      "execution_count": 1,
      "outputs": [
        {
          "output_type": "stream",
          "name": "stdout",
          "text": [
            "[3, 4, 5]\n"
          ]
        }
      ]
    },
    {
      "cell_type": "markdown",
      "source": [
        "**11. Write a recursive function to calculate the factorial of a given positive integer.**"
      ],
      "metadata": {
        "id": "1PQqTpYZ_9LA"
      }
    },
    {
      "cell_type": "code",
      "source": [
        "factorial = lambda n: 1 if n == 0 else n * factorial(n - 1)\n",
        "\n",
        "# Testing the lambda function\n",
        "n = 5\n",
        "result = factorial(n)\n",
        "print(f\"The factorial of {n} is {result}\")\n"
      ],
      "metadata": {
        "colab": {
          "base_uri": "https://localhost:8080/"
        },
        "id": "8Ldthf7sAB30",
        "outputId": "3a883560-86ad-4d62-f4c4-25d0f73cbc34"
      },
      "execution_count": 2,
      "outputs": [
        {
          "output_type": "stream",
          "name": "stdout",
          "text": [
            "The factorial of 5 is 120\n"
          ]
        }
      ]
    },
    {
      "cell_type": "markdown",
      "source": [
        "**12. Implement a recursive function to compute the nth Fibonacci number.**\n"
      ],
      "metadata": {
        "id": "i8rGNODDAJVI"
      }
    },
    {
      "cell_type": "code",
      "source": [
        "fibonacci = lambda n: n if n <= 1 else fibonacci(n - 1) + fibonacci(n - 2)\n",
        "\n",
        "n = 7\n",
        "result = fibonacci(n)\n",
        "print(f\"The {n}th Fibonacci number is {result}\")\n"
      ],
      "metadata": {
        "colab": {
          "base_uri": "https://localhost:8080/"
        },
        "id": "IEGJ-fvdAL2G",
        "outputId": "7254a569-15ad-4939-9c31-174626d57006"
      },
      "execution_count": 3,
      "outputs": [
        {
          "output_type": "stream",
          "name": "stdout",
          "text": [
            "The 7th Fibonacci number is 13\n"
          ]
        }
      ]
    },
    {
      "cell_type": "markdown",
      "source": [
        "**13. Create a recursive function to find the sum of all the elements in a given list.**"
      ],
      "metadata": {
        "id": "PNiCfNnaAPov"
      }
    },
    {
      "cell_type": "code",
      "source": [
        "sum_list = lambda lst: lst[0] if len(lst) == 1 else lst[0] + sum_list(lst[1:])\n",
        "\n",
        "my_list = [1, 2, 3, 4, 5]\n",
        "result = sum_list(my_list)\n",
        "print(f\"The sum of all elements in the list is {result}\")\n"
      ],
      "metadata": {
        "colab": {
          "base_uri": "https://localhost:8080/"
        },
        "id": "0C9ZhInCASMQ",
        "outputId": "bcee91bf-7952-4e6e-d136-6c3724b39a4d"
      },
      "execution_count": 4,
      "outputs": [
        {
          "output_type": "stream",
          "name": "stdout",
          "text": [
            "The sum of all elements in the list is 15\n"
          ]
        }
      ]
    },
    {
      "cell_type": "markdown",
      "source": [
        "**14. Write a recursive function to determine whether a given string is a palindrome.**\n"
      ],
      "metadata": {
        "id": "1zQ0UiWNAVff"
      }
    },
    {
      "cell_type": "code",
      "source": [
        "is_palindrome = lambda s: s == s[::-1] if len(s) <= 1 else (s[0] == s[-1]) and is_palindrome(s[1:-1])\n",
        "\n",
        "my_string = \"racecar\"\n",
        "result = is_palindrome(my_string)\n",
        "if result:\n",
        "    print(f\"'{my_string}' is a palindrome.\")\n",
        "else:\n",
        "    print(f\"'{my_string}' is not a palindrome.\")\n"
      ],
      "metadata": {
        "colab": {
          "base_uri": "https://localhost:8080/"
        },
        "id": "AvEYZJNPAV4g",
        "outputId": "cb559f71-d11f-482e-c1fa-6e474d518bdd"
      },
      "execution_count": 5,
      "outputs": [
        {
          "output_type": "stream",
          "name": "stdout",
          "text": [
            "'racecar' is a palindrome.\n"
          ]
        }
      ]
    },
    {
      "cell_type": "markdown",
      "source": [
        "**15. Implement a recursive function to find the greatest common divisor (GCD) of two positive integers.**\n"
      ],
      "metadata": {
        "id": "LhincDRJAaF3"
      }
    },
    {
      "cell_type": "code",
      "source": [
        "gcd = lambda a, b: a if b == 0 else gcd(b, a % b)\n",
        "\n",
        "\n",
        "num1 = 48\n",
        "num2 = 18\n",
        "\n",
        "result = gcd(num1, num2)\n",
        "print(f\"The GCD of {num1} and {num2} is {result}\")\n"
      ],
      "metadata": {
        "colab": {
          "base_uri": "https://localhost:8080/"
        },
        "id": "q1PhBnywAafk",
        "outputId": "707fe1bc-ea10-4124-f38c-26db65edb1cf"
      },
      "execution_count": 6,
      "outputs": [
        {
          "output_type": "stream",
          "name": "stdout",
          "text": [
            "The GCD of 48 and 18 is 6\n"
          ]
        }
      ]
    }
  ]
}