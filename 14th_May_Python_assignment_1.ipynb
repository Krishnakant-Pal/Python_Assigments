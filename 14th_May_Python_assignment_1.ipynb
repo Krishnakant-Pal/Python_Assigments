{
  "nbformat": 4,
  "nbformat_minor": 0,
  "metadata": {
    "colab": {
      "provenance": [],
      "authorship_tag": "ABX9TyMKqmk4ZtzB5/1qTIdmk1i9"
    },
    "kernelspec": {
      "name": "python3",
      "display_name": "Python 3"
    },
    "language_info": {
      "name": "python"
    }
  },
  "cells": [
    {
      "cell_type": "markdown",
      "source": [
        "# Assignment-1"
      ],
      "metadata": {
        "id": "-KAs0M6SL8fF"
      }
    },
    {
      "cell_type": "markdown",
      "source": [
        "1. **In the below elements which of them are values or an expression? eg:- values can be integer or string and expressions will be mathematical operators.**\n",
        "*\n",
        "'hello'\n",
        "-87.8\n",
        "-\n",
        "/\n",
        "+\n",
        "6\n",
        "\n",
        "--> Expressions are *,-,/ and +\n",
        "\n",
        "Values are -87.8 and 6"
      ],
      "metadata": {
        "id": "m4TGGTGHHVVS"
      }
    },
    {
      "cell_type": "markdown",
      "source": [
        "2. **What is the difference between string and variable?**\n",
        "\n",
        "--> Variable are names use to store data it can be data like numeric,alphanumeric,string etc.Whereas String is sequence of character that is literal contant stored inside Quotes.\n",
        "\n",
        "    Example of variable storing string:\n",
        "    Animal = \"Lion\"\n",
        "\n",
        "Above example shows that animal is a variable which stores the string value lion.\n"
      ],
      "metadata": {
        "id": "fV7DsV8GH3S6"
      }
    },
    {
      "cell_type": "markdown",
      "source": [
        "3. **Describe three different data types.**\n",
        "\n",
        "--> List : It is the collection of ordered objects which is mutable.Elements can be Integer,floating point and strings.\n",
        "\n",
        "    mylist = [\"Name\",1,1,1.2]\n",
        "Tuple : Tuples are same as list but there are immutable.\n",
        "\n",
        "    mytuple = (\"Name\",1,1,1.2)\n",
        "Set: It is the Collection of unique Objects and they are mutable.They are not scriptable.\n",
        "\n",
        "    myset = { 1,\"Hello\",2.2}\n",
        "Dictonary: It contains Key and value.For every key contains there associated values.It is mutable.\n",
        "\n",
        "    mydict = { \"Name\": \"John\",\"Age\": 23}"
      ],
      "metadata": {
        "id": "6afJztBmKb81"
      }
    },
    {
      "cell_type": "markdown",
      "source": [
        "4. **What is an expression made up of? What do all expressions do?**\n",
        "--> Expression are made of values and diffrent opperator whether it could be arithematic opperator,logical opperator etc. They evaluated and return one value.\n",
        "\n",
        "    a = 2\n",
        "    b = 1\n",
        "    print('result:',a + b)\n",
        "result: 3"
      ],
      "metadata": {
        "id": "573Vsnm2QpC3"
      }
    },
    {
      "cell_type": "markdown",
      "source": [
        "**5. This assignment statements, like spam = 10. What is the difference between an expression and a statement?**\n",
        "\n",
        "--> Assignment statements assigns value to the variable but expression on the other hand evaluates the some conditions it calculates values.\n",
        "Expressions contains operator and values that calulates ot a single values and Statement perform some action in python for example print statement which prints the values to the terminal."
      ],
      "metadata": {
        "id": "y1ot3yYHBAcw"
      }
    },
    {
      "cell_type": "markdown",
      "source": [
        "**6. After running the following code, what does the variable bacon contain?\n",
        "bacon = 22\n",
        "bacon + 1**\n",
        "\n",
        "--> It will contain 22 because we didn't ressigned the new value of the experssion back to bacon."
      ],
      "metadata": {
        "id": "sajxYKLtFMsR"
      }
    },
    {
      "cell_type": "markdown",
      "source": [
        "**7. What should the values of the following two terms be?\n",
        "'spam' + 'spamspam'\n",
        "'spam' * 3**\n",
        "\n",
        "--> Both term will output the value 'spamspamspam'"
      ],
      "metadata": {
        "id": "F0V0jZ2FGWXn"
      }
    },
    {
      "cell_type": "markdown",
      "source": [
        "**8. Why is eggs a valid variable name while 100 is invalid?**\n",
        "\n",
        "--> Variable name should only be alphabatics,alphanumerical and can contain Underscore.\n",
        "It should not start with the numeric and should contain atleast one alphabate."
      ],
      "metadata": {
        "id": "5ijVtDPPGwVi"
      }
    },
    {
      "cell_type": "markdown",
      "source": [
        "**9. What three functions can be used to get the integer, floating-point number, or string version of a value?**\n",
        "\n",
        "-->  int() - Integer. float() - Floating point str() - String version"
      ],
      "metadata": {
        "id": "yU42kVQ4IMD9"
      }
    },
    {
      "cell_type": "markdown",
      "source": [
        "**10. Why does this expression cause an error? How can you fix it?\n",
        "'I have eaten ' + 99 + ' burritos.'**\n",
        "\n",
        "--> Here we are concating string with the interger this will cause an TypeError.\n",
        "To resolve this error we have to convert the integer as a string.\n",
        "Correct way is:\n",
        "\n",
        "    I have eaten ' + str(99) + ' burritos.'\n"
      ],
      "metadata": {
        "id": "O9vlV46jKqX1"
      }
    }
  ]
}
