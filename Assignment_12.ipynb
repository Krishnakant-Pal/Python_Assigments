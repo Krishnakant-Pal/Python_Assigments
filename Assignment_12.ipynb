{
  "nbformat": 4,
  "nbformat_minor": 0,
  "metadata": {
    "colab": {
      "provenance": [],
      "authorship_tag": "ABX9TyMjBhE+ZxiBpTdpGGyEyS4f",
      "include_colab_link": true
    },
    "kernelspec": {
      "name": "python3",
      "display_name": "Python 3"
    },
    "language_info": {
      "name": "python"
    }
  },
  "cells": [
    {
      "cell_type": "markdown",
      "metadata": {
        "id": "view-in-github",
        "colab_type": "text"
      },
      "source": [
        "<a href=\"https://colab.research.google.com/github/Krishnakant-Pal/Python_Assigments/blob/main/Assignment_12.ipynb\" target=\"_parent\"><img src=\"https://colab.research.google.com/assets/colab-badge.svg\" alt=\"Open In Colab\"/></a>"
      ]
    },
    {
      "cell_type": "markdown",
      "source": [
        "**1. What is the primary goal of Object-Oriented Programming (OOP)?**"
      ],
      "metadata": {
        "id": "sbezVvmnAlxv"
      }
    },
    {
      "cell_type": "markdown",
      "source": [
        "--> Object Oriented Programming: The main goal of OOPS is to design a software in a such a way that is reflects the real world objects and interaction. This can be achieve through creating objects which is bundle of data and method. 4 principle:\n",
        "\n",
        " • Encapsulation: Bundling the data (attributes) and methods(functions) into a single object.\n",
        "\n",
        "  • Abstraction: Abstraction hides the non-essential details of the class .By hiding non-essential details it is easier to understand the class and it fuctionallity. It also helps the reduce the impact of the change. Deleting or modifying a method won't affect the whole application since it is only used in the object of the class in which it is defined. Which helps making changes much easier as compare to procedural programming.\n",
        "  \n",
        "  • Inheritance: Inheritance is nothing but class inherits functionality of other class. This saves time and efforts which would have been wasted rewriting the code.\n",
        "  \n",
        "   • Polymorphism Polymorphism allows the different class use the common methods. It allows the objects of the different class to be treated as common type."
      ],
      "metadata": {
        "id": "VVnyqoHFwz7m"
      }
    },
    {
      "cell_type": "markdown",
      "source": [
        "**2. What is an object in Python?**\n",
        "\n",
        "--> Every thing in the python is object and abject is a intance of a class."
      ],
      "metadata": {
        "id": "vYZTQgsSxCw0"
      }
    },
    {
      "cell_type": "markdown",
      "source": [
        "**3. What is a class in Python?**\n",
        "\n",
        "--> A class is a Blue print or template for creating an object. A class contains attirbutes that stores data and methods that is use to perform fuctions on the objects."
      ],
      "metadata": {
        "id": "DFJC9D-5y1cB"
      }
    },
    {
      "cell_type": "code",
      "source": [
        "class Dog:\n",
        "    def __init__(self,name):\n",
        "        self.name = name\n",
        "\n",
        "    def speak(self):\n",
        "        return \"Wolf\"\n",
        "\n",
        "mydog = Dog(\"Rocky\")\n",
        "mydog.speak()"
      ],
      "metadata": {
        "colab": {
          "base_uri": "https://localhost:8080/",
          "height": 35
        },
        "id": "sicRDve3zemG",
        "outputId": "a484892d-1f1e-4d42-fab6-c2a6ab339a6d"
      },
      "execution_count": null,
      "outputs": [
        {
          "output_type": "execute_result",
          "data": {
            "text/plain": [
              "'Wolf'"
            ],
            "application/vnd.google.colaboratory.intrinsic+json": {
              "type": "string"
            }
          },
          "metadata": {},
          "execution_count": 12
        }
      ]
    },
    {
      "cell_type": "markdown",
      "source": [
        "4. What are attributes and methods in a class?\n",
        "--> Atrributes are thing in which all the data is stored. Methods is the function that is defined under the class . It is a block of code to perform that perform simple tasks when called."
      ],
      "metadata": {
        "id": "d9vIVv-e1y9S"
      }
    },
    {
      "cell_type": "markdown",
      "source": [
        "**5. What is the difference between class variables and instance variables in Python?**"
      ],
      "metadata": {
        "id": "WAZRG8YxxuBm"
      }
    },
    {
      "cell_type": "markdown",
      "source": [
        "--> Class variable is the variable that is shared by the all the instances of the class while instance variable is only for the instance of the particular class.\n"
      ],
      "metadata": {
        "id": "zKkSTB3sAcT8"
      }
    },
    {
      "cell_type": "markdown",
      "source": [
        "**6. What is the purpose of the self parameter in Python class methods?**\n",
        "--> The self parameter serves as  reference to the instance of a class. It is python convention to pass the self parameter while defining the instance method though we can use any other name that using 'self' but it is highly recommeded to use 'self' due to coding convention. The main purpose is to make method to operate on the instance of the class. When method is called on the class object the intance of the class automatically passed"
      ],
      "metadata": {
        "id": "IHEJzMy5Azai"
      }
    },
    {
      "cell_type": "markdown",
      "source": [
        "**7. For a library management system, you have to design the \"Book\" class with OOP\n",
        "principles in mind. The “Book” class will have following attributes:\n",
        "a. title: Represents the title of the book.\n",
        "b. author: Represents the author(s) of the book.\n",
        "c. isbn: Represents the ISBN (International Standard Book Number) of the book.\n",
        "d. publication_year: Represents the year of publication of the book.\n",
        "e. available_copies: Represents the number of copies available for checkout.\n",
        "The class will also include the following methods:\n",
        "a. check_out(self): Decrements the available copies by one if there are copies\n",
        "available for checkout.\n",
        "b. return_book(self): Increments the available copies by one when a book is\n",
        "returned.\n",
        "c. display_book_info(self): Displays the information about the book, including its\n",
        "attributes and the number of available copies.**"
      ],
      "metadata": {
        "id": "mN2k7DKtDz7Z"
      }
    },
    {
      "cell_type": "code",
      "source": [
        "class Book:\n",
        "    def __init__(self,title,author,isbn,publication_year,available_copies) :\n",
        "        self.title = title\n",
        "        self.author = author\n",
        "        self.isbn = isbn\n",
        "        self.publication_year = publication_year\n",
        "        self.available_copies = available_copies\n",
        "\n",
        "    def check_out(self):\n",
        "        \"\"\"\n",
        "        Decrements the Avalable copies\n",
        "        \"\"\"\n",
        "        if self.available_copies > 0:\n",
        "            self.available_copies -= 1\n",
        "            print(f\"Book '{self.title}' checked out successfully.\")\n",
        "        else:\n",
        "            print(f\"Sorry, '{self.title}' is currently not available for checkout.\")\n",
        "\n",
        "\n",
        "    def return_book(self):\n",
        "        \"\"\"\n",
        "        Increments the Avalable copies\n",
        "        \"\"\"\n",
        "        self.available_copies += 1\n",
        "        print(f\"Book '{self.title}' returned successfully.\")\n",
        "\n",
        "    def display_book_info(self):\n",
        "        print(f\"Title : {self.title}\")\n",
        "        print(f\"Author : {self.author}\")\n",
        "        print(f\"ISBN : {self.isbn}\")\n",
        "        print(f\"Publication Year : {self.publication_year}\")\n",
        "        print(f\"Avalable Copies : {self.available_copies}\")\n",
        "\n",
        "\n",
        "\n",
        "# Creating a object\n",
        "new_book = Book(\"Atomic habit\",\"James Clear\",'978-3-16-148410-0',2014,20)\n",
        "new_book.check_out()\n",
        "new_book.return_book()\n",
        "new_book.display_book_info()"
      ],
      "metadata": {
        "id": "TDyk99hnAuTw",
        "colab": {
          "base_uri": "https://localhost:8080/"
        },
        "outputId": "2c032a53-dafa-4ea0-ce32-b3b44bba25ce"
      },
      "execution_count": 6,
      "outputs": [
        {
          "output_type": "stream",
          "name": "stdout",
          "text": [
            "Book 'Atomic habit' checked out successfully.\n",
            "Book 'Atomic habit' returned successfully.\n",
            "Title : Atomic habit\n",
            "Author : James Clear\n",
            "ISBN : 978-3-16-148410-0\n",
            "Publication Year : 2014\n",
            "Avalable Copies : 20\n"
          ]
        }
      ]
    },
    {
      "cell_type": "markdown",
      "source": [
        "**8. For a ticket booking system, you have to design the \"Ticket\" class with OOP\n",
        "principles in mind. The “Ticket” class should have the following attributes:\n",
        "a. ticket_id: Represents the unique identifier for the ticket.\n",
        "b. event_name: Represents the name of the event.\n",
        "c. event_date: Represents the date of the event.\n",
        "d. venue: Represents the venue of the event.\n",
        "e. seat_number: Represents the seat number associated with the ticket.\n",
        "f. price: Represents the price of the ticket.\n",
        "g. is_reserved: Represents the reservation status of the ticket.\n",
        "The class also includes the following methods:\n",
        "a. reserve_ticket(self): Marks the ticket as reserved if it is not already reserved.\n",
        "b. cancel_reservation(self): Cancels the reservation of the ticket if it is already\n",
        "reserved.\n",
        "c. display_ticket_info(self): Displays the information about the ticket, including its\n",
        "attributes and reservation status.**"
      ],
      "metadata": {
        "id": "Srzc4TCmK6j3"
      }
    },
    {
      "cell_type": "code",
      "source": [
        "class Ticket:\n",
        "    def __init__(self,ticket_id,event_name,event_date,venue,seat_number,price,is_reserved):\n",
        "        self.ticket_id = ticket_id\n",
        "        self.event_name = event_name\n",
        "        self.event_date = event_date\n",
        "        self.venue = venue\n",
        "        self.seat_number = seat_number\n",
        "        self.price = price\n",
        "        self.is_reserved = is_reserved\n",
        "\n",
        "    def reserve_ticket(self):\n",
        "        if not self.is_reserved :\n",
        "            self.is_reserved = True\n",
        "            print(f\"Ticket: {self.ticket_id} is reserved.\")\n",
        "\n",
        "    def cancel_reservation(self):\n",
        "        if self.is_reserved :\n",
        "            self.is_reserved = False\n",
        "            print(f\"Ticket: {self.ticket_id} is cancelled.\")\n",
        "\n",
        "    def display_ticket_info(self):\n",
        "        print(\"--------Ticket Details----------\")\n",
        "        print(f\"Ticket id  :  {self.ticket_id}\")\n",
        "        print(f\"Event_name : {self.event_name}\")\n",
        "        print(f\"Event_date : {self.event_date}\")\n",
        "        print(f\"Venue      : {self.venue}\")\n",
        "        print(f\"Seat number: {self.seat_number}\")\n",
        "        print(f\"Price      : {self.price} IST\")\n",
        "        print(f\"Is_reserved: {self.is_reserved}\")\n",
        "\n",
        "ticket = Ticket(\"2182739910\",\"Music festival\",\"02-12-23\",\"Jio Garden\",\"24A\",11238,False)\n",
        "ticket.reserve_ticket()\n",
        "ticket.cancel_reservation()\n",
        "ticket.display_ticket_info()"
      ],
      "metadata": {
        "colab": {
          "base_uri": "https://localhost:8080/"
        },
        "id": "APWSWg30VQdH",
        "outputId": "2fc7d8e8-4445-4750-cb8a-f8d3378c7479"
      },
      "execution_count": 7,
      "outputs": [
        {
          "output_type": "stream",
          "name": "stdout",
          "text": [
            "Ticket: 2182739910 is reserved.\n",
            "Ticket: 2182739910 is cancelled.\n",
            "--------Ticket Details----------\n",
            "Ticket id  :  2182739910\n",
            "Event_name : Music festival\n",
            "Event_date : 02-12-23\n",
            "Venue      : Jio Garden\n",
            "Seat number: 24A\n",
            "Price      : 11238 IST\n",
            "Is_reserved: False\n"
          ]
        }
      ]
    },
    {
      "cell_type": "markdown",
      "source": [
        "9. You are creating a shopping cart for an e-commerce website. Using OOP to model\n",
        "the \"ShoppingCart\" functionality the class should contain following attributes and\n",
        "methods:\n",
        "a. items: Represents the list of items in the shopping cart.\n",
        "The class also includes the following methods:\n",
        "\n",
        "a. add_item(self, item): Adds an item to the shopping cart by appending it to the\n",
        "list of items.\n",
        "b. remove_item(self, item): Removes an item from the shopping cart if it exists in\n",
        "the list.\n",
        "c. view_cart(self): Displays the items currently present in the shopping cart.\n",
        "d. clear_cart(self): Clears all items from the shopping cart by reassigning an\n",
        "empty list to the items attribute."
      ],
      "metadata": {
        "id": "MnIobaFb_sLA"
      }
    },
    {
      "cell_type": "code",
      "source": [
        "class ShoppingCart:\n",
        "\n",
        "    def __init__(self):\n",
        "\n",
        "        self.items = []    # Each instance will have this empty list of items\n",
        "\n",
        "    def add_items(self,item):\n",
        "        # Checking if already present\n",
        "        if item  not in self.items:\n",
        "            self.items.append(item)\n",
        "            print(f\"{item} has been sucessfully added to cart \")\n",
        "        else:\n",
        "            print(f\"{item} already present in the cart\")\n",
        "\n",
        "    def remove_item(self,item):\n",
        "        # checking the item is present or not before removing\n",
        "        if item in self.items:\n",
        "            self.items.remove(item)\n",
        "            print(f\"{item} has been removed from the cart\")\n",
        "        else:\n",
        "            print(f\"{item} is not present in the cart\")\n",
        "\n",
        "    def view_cart(self):\n",
        "        return self.items\n",
        "\n",
        "    def clear_cart(self):\n",
        "        self.items = []\n",
        "        print(\"All the item in the cart has been removed\")\n",
        "\n",
        "\n",
        "mycart = ShoppingCart()\n",
        "mycart.add_items(\"carrot\")\n",
        "mycart.add_items(\"tomato\")\n",
        "print(mycart.view_cart(),'\\n')\n",
        "\n",
        "mycart.remove_item(\"carrot\")\n",
        "print(mycart.view_cart(),'\\n')\n",
        "\n",
        "mycart.clear_cart()\n",
        "print(mycart.view_cart())"
      ],
      "metadata": {
        "colab": {
          "base_uri": "https://localhost:8080/"
        },
        "id": "ORZXEAPc_2B8",
        "outputId": "91fe7113-829c-4276-cb5e-aa9c42d6d814"
      },
      "execution_count": 46,
      "outputs": [
        {
          "output_type": "stream",
          "name": "stdout",
          "text": [
            "carrot has been sucessfully added to cart \n",
            "tomato has been sucessfully added to cart \n",
            "['carrot', 'tomato'] \n",
            "\n",
            "carrot has been removed from the cart\n",
            "['tomato'] \n",
            "\n",
            "All the item in the cart has been removed\n",
            "[]\n"
          ]
        }
      ]
    },
    {
      "cell_type": "markdown",
      "source": [
        "10. Imagine a school management system. You have to design the \"Student\" class using\n",
        "OOP concepts.The “Student” class has the following attributes:\n",
        "a. name: Represents the name of the student.\n",
        "b. age: Represents the age of the student.\n",
        "c. grade: Represents the grade or class of the student.\n",
        "d. student_id: Represents the unique identifier for the student.\n",
        "e. attendance: Represents the attendance record of the student.\n",
        "The class should also include the following methods:\n",
        "a. update_attendance(self, date, status): Updates the attendance record of the\n",
        "student for a given date with the provided status (e.g., present or absent).\n",
        "b. get_attendance(self): Returns the attendance record of the student.\n",
        "c. get_average_attendance(self): Calculates and returns the average\n",
        "attendance percentage of the student based on their attendance record."
      ],
      "metadata": {
        "id": "Tili_4w8_yX7"
      }
    },
    {
      "cell_type": "code",
      "source": [
        "class Student:\n",
        "    def __init__(self,name,age,grade,student_id):\n",
        "        self.name = name\n",
        "        self.age = age\n",
        "        self.grade = grade\n",
        "        self.student = student_id\n",
        "        self.attendance = {}\n",
        "\n",
        "    def update_attendance(self,date,status):\n",
        "        \"\"\"\n",
        "        Updates the attendance record of the student for a given date with the provided status.\n",
        "        \"\"\"\n",
        "\n",
        "        if status.lower() in ['present', 'absent']:\n",
        "            self.attendance[date] = status.lower()\n",
        "            print(f\"Attendance for {self.name} on {date}: {status.capitalize()} recorded successfully.\")\n",
        "        else:\n",
        "            print(\"Invalid attendance status. Please use 'present' or 'absent'.\")\n",
        "\n",
        "\n",
        "    def get_attendance(self):\n",
        "        return self.attendance\n",
        "\n",
        "    def get_average_attendance(self):\n",
        "        if not self.attendance:\n",
        "            return 0.0  # Return 0 if no attendance records are available\n",
        "\n",
        "        total_days = len(self.attendance)\n",
        "        present_days = sum(1 for status in self.attendance.values() if status == 'present')\n",
        "        average_attendance = (present_days / total_days) * 100\n",
        "        return average_attendance\n",
        "\n",
        "\n",
        "student1 = Student(\"Vinod\",14,'9th',21831)\n",
        "student1.update_attendance('02-12-23','Present')\n",
        "student1.update_attendance('01-12-23','Present')\n",
        "student1.update_attendance('03-12-23','Absent')\n",
        "student1.update_attendance('04-12-23','Present')\n",
        "\n",
        "print(student1.get_attendance())"
      ],
      "metadata": {
        "colab": {
          "base_uri": "https://localhost:8080/"
        },
        "id": "pPye8Oi58QL3",
        "outputId": "8188f99f-da43-4a1c-b4ac-7758f03604da"
      },
      "execution_count": 84,
      "outputs": [
        {
          "output_type": "stream",
          "name": "stdout",
          "text": [
            "Attendance for Vinod on 02-12-23: Present recorded successfully.\n",
            "Attendance for Vinod on 01-12-23: Present recorded successfully.\n",
            "Attendance for Vinod on 03-12-23: Absent recorded successfully.\n",
            "Attendance for Vinod on 04-12-23: Present recorded successfully.\n",
            "{'02-12-23': 'present', '01-12-23': 'present', '03-12-23': 'absent', '04-12-23': 'present'}\n"
          ]
        }
      ]
    },
    {
      "cell_type": "code",
      "source": [
        "student1.get_average_attendance()"
      ],
      "metadata": {
        "colab": {
          "base_uri": "https://localhost:8080/"
        },
        "id": "nCiE6EUVMMvZ",
        "outputId": "09d3c30f-fbec-4f57-9c62-1b434ebf0c51"
      },
      "execution_count": 86,
      "outputs": [
        {
          "output_type": "execute_result",
          "data": {
            "text/plain": [
              "75.0"
            ]
          },
          "metadata": {},
          "execution_count": 86
        }
      ]
    }
  ]
}