{
  "nbformat": 4,
  "nbformat_minor": 0,
  "metadata": {
    "colab": {
      "provenance": [],
      "authorship_tag": "ABX9TyOoUxEbfGl0qH1W0AwPDvXF"
    },
    "kernelspec": {
      "name": "python3",
      "display_name": "Python 3"
    },
    "language_info": {
      "name": "python"
    }
  },
  "cells": [
    {
      "cell_type": "markdown",
      "source": [
        "##Assignment: 2"
      ],
      "metadata": {
        "id": "6c0i_C_AMboC"
      }
    },
    {
      "cell_type": "markdown",
      "source": [
        "**1.What are the two values of the Boolean data type? How do you write them?**\n",
        "\n",
        "--> True and False with first letter capital.\n",
        "\n",
        "Examples:\n",
        " 1. True:\n",
        "\n",
        "    Concept_understood = True\n",
        "    \n",
        "\n",
        "2. False:\n",
        "\n",
        "    Assignment_completed = False"
      ],
      "metadata": {
        "id": "qMkYb_DNPKCP"
      }
    },
    {
      "cell_type": "markdown",
      "source": [
        "**2. What are the three different types of Boolean operators?**\n",
        "\n",
        "--> There different type of bool operators are:\n",
        "And,NOT & OR."
      ],
      "metadata": {
        "id": "2G9FsOBpQUfQ"
      }
    },
    {
      "cell_type": "markdown",
      "source": [
        "**3. Make a list of each Boolean operator&#39;s truth tables (i.e. every possible combination of Boolean\n",
        "values for the operator and what it evaluate ).**\n",
        "\n",
        "--> And:\n",
        "\n",
        "    True and True is True\n",
        "    True and False is False\n",
        "    False and True is False\n",
        "    False and False is False\n",
        "\n",
        "  Or:\n",
        "     \n",
        "     True Or True is True\n",
        "     True or False is True\n",
        "     False or True is True\n",
        "     False or Flase is False\n",
        "\n",
        " Not:\n",
        "\n",
        "    Not True is False\n",
        "    Not False is True\n",
        "\n"
      ],
      "metadata": {
        "id": "fCqr_kqxCMNw"
      }
    },
    {
      "cell_type": "markdown",
      "source": [
        "**4. What are the values of the following expressions?\n",
        "(5 &gt; 4) and (3 == 5)\n",
        "not (5 &gt; 4)\n",
        "(5 &gt; 4) or (3 == 5)\n",
        "not ((5 &gt; 4) or (3 == 5))\n",
        "(True and True) and (True == False)\n",
        "(not False) or (not True)**\n",
        "\n",
        "--> (5 &gt; 4) and (3 == 5)    ==> False\n",
        "\n",
        "not (5 &gt; 4)     ==> False\n",
        "\n",
        "(5 &gt; 4) or (3 == 5)   ==> True\n",
        "\n",
        "not ((5 &gt; 4) or (3 == 5))  ==> False\n",
        "\n",
        "(True and True) and (True == False) ==> False\n",
        "\n",
        "(not False) or (not True)   ==> True\n",
        "\n"
      ],
      "metadata": {
        "id": "l3T8IRTGEQlD"
      }
    },
    {
      "cell_type": "markdown",
      "source": [
        "**5. What are the six comparison operators?**\n",
        "\n",
        "--> 1. Equal to '=='\n",
        "\n",
        "2. Less than '<'\n",
        "\n",
        "3. Less than equal to '<='\n",
        "\n",
        "4. More than '>'\n",
        "\n",
        "5. More than equal to '>='\n",
        "\n",
        "6. Not equal to '!='\n"
      ],
      "metadata": {
        "id": "r23Z77JUFohA"
      }
    },
    {
      "cell_type": "markdown",
      "source": [
        "**6. How do you tell the difference between the equal to and assignment operators?Describe a condition and when you would use one.**\n",
        "\n",
        "--> Equal to has double equal to sign '==' and assignment has only single equal to sign '='.\n",
        "\n",
        "Assignment operator is use to assign values to the variables.\n",
        "\n",
        "     score = 100\n",
        "     century = 100\n",
        "Equal to is use to check comapare two variables.\n",
        "\n",
        "    if score==century:\n",
        "        print(\"Century!!!\")\n",
        "\n",
        "\n",
        "     "
      ],
      "metadata": {
        "id": "VNj4r7NaG0zn"
      }
    },
    {
      "cell_type": "markdown",
      "source": [
        "**7. Identify the three blocks in this code:\n",
        "spam = 0\n",
        "if spam == 10:\n",
        "print(&#39;eggs&#39;)\n",
        "if spam &gt; 5:\n",
        "print(&#39;bacon&#39;)\n",
        "else:\n",
        "print(&#39;ham&#39;)\n",
        "print(&#39;spam&#39;)\n",
        "print(&#39;spam&#39;)**\n",
        "\n",
        "--> 1st block:\n",
        "\n",
        "    spam = 0\n",
        "    if spam == 10:\n",
        "        print('eggs')\n",
        "2nd block:\n",
        "\n",
        "    if spam > 5:\n",
        "        print('bacon')\n",
        "    else:\n",
        "        print('ham')\n",
        "3rd block:\n",
        "\n",
        "    print('spam')\n",
        "    print('spam')\n",
        "\n",
        "    \n"
      ],
      "metadata": {
        "id": "3EX4g6khJBQ-"
      }
    },
    {
      "cell_type": "markdown",
      "source": [
        "**8. Write code that prints Hello if 1 is stored in spam, prints Howdy if 2 is stored in spam, and prints\n",
        "Greetings! if anything else is stored in spam.**\n",
        "\n"
      ],
      "metadata": {
        "id": "5LMgXNoYKogw"
      }
    },
    {
      "cell_type": "code",
      "source": [
        "spam = None\n",
        "if spam == 1:\n",
        "    print(\"Hello\")\n",
        "elif spam == 2:\n",
        "    print(\"Howdy\")\n",
        "else:\n",
        "    print(\"Greetings!\")"
      ],
      "metadata": {
        "id": "ZDZwGC91C5g8"
      },
      "execution_count": null,
      "outputs": []
    },
    {
      "cell_type": "markdown",
      "source": [
        "**9.If your programme is stuck in an endless loop, what keys you’ll press?**\n",
        "\n",
        "--> I will press Ctrl+C to break out of endless loop."
      ],
      "metadata": {
        "id": "MAoV6GxOQZTM"
      }
    },
    {
      "cell_type": "markdown",
      "source": [
        "**10. How can you tell the difference between break and continue?**\n",
        "\n",
        "--> Break statemant will break the loop and put the execution outside the loo"
      ],
      "metadata": {
        "id": "WUr0KGmNQuhr"
      }
    },
    {
      "cell_type": "markdown",
      "source": [
        "**11. In a for loop, what is the difference between range(10), range(0, 10), and range(0, 10, 1)?**"
      ],
      "metadata": {
        "id": "QLhpMaMvQ7G5"
      }
    },
    {
      "cell_type": "markdown",
      "source": [
        "--> There is no diffrence in all three. In range(0,10,1) it is explicitly coded to start with 0 end before 10 and with 1 step each iteration."
      ],
      "metadata": {
        "id": "MAX8HiI1ZVnV"
      }
    },
    {
      "cell_type": "markdown",
      "source": [
        "**12. Write a short program that prints the numbers 1 to 10 using a for loop. Then write an equivalent program that prints the numbers 1 to 10 using a while loop.**"
      ],
      "metadata": {
        "id": "tXV360kmQ9TP"
      }
    },
    {
      "cell_type": "code",
      "source": [
        "for i in range(1,11):\n",
        "    print(i)"
      ],
      "metadata": {
        "colab": {
          "base_uri": "https://localhost:8080/"
        },
        "id": "wclTMxFcRZ1r",
        "outputId": "34b84b48-60cd-42f8-9924-98ffc0845456"
      },
      "execution_count": null,
      "outputs": [
        {
          "output_type": "stream",
          "name": "stdout",
          "text": [
            "1\n",
            "2\n",
            "3\n",
            "4\n",
            "5\n",
            "6\n",
            "7\n",
            "8\n",
            "9\n",
            "10\n"
          ]
        }
      ]
    },
    {
      "cell_type": "code",
      "source": [
        "i = 1\n",
        "while (i<11):\n",
        "    print(i)\n",
        "    i = i+1"
      ],
      "metadata": {
        "colab": {
          "base_uri": "https://localhost:8080/"
        },
        "id": "GfAy92FV-A1T",
        "outputId": "59be1df8-2df4-4f26-fdbe-d031ccf52358"
      },
      "execution_count": null,
      "outputs": [
        {
          "output_type": "stream",
          "name": "stdout",
          "text": [
            "1\n",
            "2\n",
            "3\n",
            "4\n",
            "5\n",
            "6\n",
            "7\n",
            "8\n",
            "9\n",
            "10\n"
          ]
        }
      ]
    },
    {
      "cell_type": "markdown",
      "source": [
        "**13. If you had a function named bacon() inside a module named spam, how would you call it after\n",
        "importing spam?**"
      ],
      "metadata": {
        "id": "i9wMWzD2RBH5"
      }
    },
    {
      "cell_type": "markdown",
      "source": [
        "--> from spam import bacon\n",
        "\n",
        "bacon()\n",
        "\n",
        "or\n",
        "\n",
        "import spam\n",
        "\n",
        "spam.bacon()"
      ],
      "metadata": {
        "id": "82iRuxd2RmVc"
      }
    }
  ]
}