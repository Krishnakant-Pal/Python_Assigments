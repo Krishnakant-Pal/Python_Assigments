{
  "nbformat": 4,
  "nbformat_minor": 0,
  "metadata": {
    "colab": {
      "provenance": [],
      "authorship_tag": "ABX9TyOC69hIdSWEieWfJhWgdUet"
    },
    "kernelspec": {
      "name": "python3",
      "display_name": "Python 3"
    },
    "language_info": {
      "name": "python"
    }
  },
  "cells": [
    {
      "cell_type": "markdown",
      "source": [
        "##Assignment: 2"
      ],
      "metadata": {
        "id": "6c0i_C_AMboC"
      }
    },
    {
      "cell_type": "markdown",
      "source": [
        "**1.What are the two values of the Boolean data type? How do you write them?**\n",
        "\n",
        "--> True and False with first letter capital.\n",
        "\n",
        "Examples:\n",
        " 1. True:\n",
        "\n",
        "    Concept_understood = True\n",
        "    \n",
        "\n",
        "2. False:\n",
        "\n",
        "    Assignment_completed = False"
      ],
      "metadata": {
        "id": "qMkYb_DNPKCP"
      }
    },
    {
      "cell_type": "markdown",
      "source": [
        "**2. What are the three different types of Boolean operators?**\n",
        "\n",
        "--> There different type of bool operators are:\n",
        "And,NOT & OR."
      ],
      "metadata": {
        "id": "2G9FsOBpQUfQ"
      }
    },
    {
      "cell_type": "markdown",
      "source": [
        "**3. Make a list of each Boolean operator&#39;s truth tables (i.e. every possible combination of Boolean\n",
        "values for the operator and what it evaluate ).**\n",
        "\n",
        "--> And:\n",
        "\n",
        "    True and True is True\n",
        "    True and False is False\n",
        "    False and True is False\n",
        "    False and False is False\n",
        "\n",
        "  Or:\n",
        "     \n",
        "     True Or True is True\n",
        "     True or False is True\n",
        "     False or True is True\n",
        "     False or Flase is False\n",
        "\n",
        " Not:\n",
        "\n",
        "    Not True is False\n",
        "    Not False is True\n",
        "\n"
      ],
      "metadata": {
        "id": "fCqr_kqxCMNw"
      }
    },
    {
      "cell_type": "markdown",
      "source": [
        "**4. What are the values of the following expressions?\n",
        "(5 &gt; 4) and (3 == 5)\n",
        "not (5 &gt; 4)\n",
        "(5 &gt; 4) or (3 == 5)\n",
        "not ((5 &gt; 4) or (3 == 5))\n",
        "(True and True) and (True == False)\n",
        "(not False) or (not True)**\n",
        "\n",
        "--> (5 &gt; 4) and (3 == 5)    ==> False\n",
        "\n",
        "not (5 &gt; 4)     ==> False\n",
        "\n",
        "(5 &gt; 4) or (3 == 5)   ==> True\n",
        "\n",
        "not ((5 &gt; 4) or (3 == 5))  ==> False\n",
        "\n",
        "(True and True) and (True == False) ==> False\n",
        "\n",
        "(not False) or (not True)   ==> True\n",
        "\n"
      ],
      "metadata": {
        "id": "l3T8IRTGEQlD"
      }
    },
    {
      "cell_type": "markdown",
      "source": [
        "**5. What are the six comparison operators?**\n",
        "\n",
        "--> 1. Equal to '=='\n",
        "\n",
        "2. Less than '<'\n",
        "\n",
        "3. Less than equal to '<='\n",
        "\n",
        "4. More than '>'\n",
        "\n",
        "5. More than equal to '>='\n",
        "\n",
        "6. Not equal to '!='\n"
      ],
      "metadata": {
        "id": "r23Z77JUFohA"
      }
    },
    {
      "cell_type": "markdown",
      "source": [
        "**6. How do you tell the difference between the equal to and assignment operators?Describe a condition and when you would use one.**\n",
        "\n",
        "--> Equal to has double equal to sign '==' and assignment has only single equal to sign '='.\n",
        "\n",
        "Assignment operator is use to assign values to the variables.\n",
        "\n",
        "     score = 100\n",
        "     century = 100\n",
        "Equal to is use to check comapare two variables.\n",
        "\n",
        "    if score==century:\n",
        "        print(\"Century!!!\")\n",
        "\n",
        "\n",
        "     "
      ],
      "metadata": {
        "id": "VNj4r7NaG0zn"
      }
    },
    {
      "cell_type": "markdown",
      "source": [
        "**7. Identify the three blocks in this code:\n",
        "spam = 0\n",
        "if spam == 10:\n",
        "print(&#39;eggs&#39;)\n",
        "if spam &gt; 5:\n",
        "print(&#39;bacon&#39;)\n",
        "else:\n",
        "print(&#39;ham&#39;)\n",
        "print(&#39;spam&#39;)\n",
        "print(&#39;spam&#39;)**\n",
        "\n",
        "--> 1st block:\n",
        "\n",
        "    spam = 0\n",
        "    if spam == 10:\n",
        "        print('eggs')\n",
        "2nd block:\n",
        "\n",
        "    if spam > 5:\n",
        "        print('bacon')\n",
        "    else:\n",
        "        print('ham')\n",
        "3rd block:\n",
        "\n",
        "    print('spam')\n",
        "    print('spam')\n",
        "\n",
        "    \n"
      ],
      "metadata": {
        "id": "3EX4g6khJBQ-"
      }
    },
    {
      "cell_type": "markdown",
      "source": [
        "**8. Write code that prints Hello if 1 is stored in spam, prints Howdy if 2 is stored in spam, and prints\n",
        "Greetings! if anything else is stored in spam.**\n",
        "\n"
      ],
      "metadata": {
        "id": "5LMgXNoYKogw"
      }
    },
    {
      "cell_type": "code",
      "source": [
        "spam = None\n",
        "if spam == 1:\n",
        "    print(\"Hello\")\n",
        "elif spam == 2:\n",
        "    print(\"Howdy\")\n",
        "else:\n",
        "    print(\"Greetings!\")"
      ],
      "metadata": {
        "id": "ZDZwGC91C5g8"
      },
      "execution_count": null,
      "outputs": []
    }
  ]
}