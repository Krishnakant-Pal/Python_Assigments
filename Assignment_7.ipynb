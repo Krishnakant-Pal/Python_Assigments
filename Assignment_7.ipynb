{
  "nbformat": 4,
  "nbformat_minor": 0,
  "metadata": {
    "colab": {
      "provenance": [],
      "authorship_tag": "ABX9TyNmTDj03aZfb9d8SqlrJaaj",
      "include_colab_link": true
    },
    "kernelspec": {
      "name": "python3",
      "display_name": "Python 3"
    },
    "language_info": {
      "name": "python"
    }
  },
  "cells": [
    {
      "cell_type": "markdown",
      "metadata": {
        "id": "view-in-github",
        "colab_type": "text"
      },
      "source": [
        "<a href=\"https://colab.research.google.com/github/Krishnakant-Pal/Python_Assigments/blob/main/Assignment_7.ipynb\" target=\"_parent\"><img src=\"https://colab.research.google.com/assets/colab-badge.svg\" alt=\"Open In Colab\"/></a>"
      ]
    },
    {
      "cell_type": "markdown",
      "source": [
        "Q.1. Create two int type variables, apply addition, subtraction, division and multiplications\n",
        "and store the results in variables. Then print the data in the following format by calling the\n",
        "variables:\n",
        "First variable is __ & second variable is __.\n",
        "Addition: __ + __ = __\n",
        "Subtraction: __ - __ = __\n",
        "Multiplication: __ * __ = __\n",
        "Division: __ / __ = __"
      ],
      "metadata": {
        "id": "GqMRYOKhcqfs"
      }
    },
    {
      "cell_type": "code",
      "source": [
        "first_var = 100\n",
        "second_var = 10\n",
        "\n",
        "print(f\"First variable is {first_var} & second variable is {second_var}\")\n",
        "print(f\"Addition       : {first_var} + {second_var} = {first_var + second_var}\")\n",
        "print(f\"Subtraction    : {first_var} - {second_var} = {first_var - second_var}\")\n",
        "print(f\"Multiplication : {first_var} * {second_var} = {first_var * second_var}\")\n",
        "print(f\"Division       : {first_var} / {second_var} = {first_var / second_var}\")"
      ],
      "metadata": {
        "colab": {
          "base_uri": "https://localhost:8080/"
        },
        "id": "LMl00O_ydNY6",
        "outputId": "c3628fed-a5b2-4c94-e064-8b6a0fb74929"
      },
      "execution_count": null,
      "outputs": [
        {
          "output_type": "stream",
          "name": "stdout",
          "text": [
            "First variable is 100 & second variable is 10\n",
            "Addition       : 100 + 10 = 110\n",
            "Subtraction    : 100 - 10 = 90\n",
            "Multiplication : 100 * 10 = 1000\n",
            "Division       : 100 / 10 = 10.0\n"
          ]
        }
      ]
    },
    {
      "cell_type": "markdown",
      "source": [
        "Q.2. What is the difference between the following operators:\n",
        "(i) ‘/’ & ‘//’\n",
        "(ii) ‘**’ & ‘^’"
      ],
      "metadata": {
        "id": "FKyzW-wccwR5"
      }
    },
    {
      "cell_type": "markdown",
      "source": [
        "--> '/' is division which will result the floating point number where as '//' is a floor division will result in largest integer."
      ],
      "metadata": {
        "id": "-9v2CC2JefNM"
      }
    },
    {
      "cell_type": "code",
      "source": [
        "print(17/3)\n",
        "print(17//3)"
      ],
      "metadata": {
        "colab": {
          "base_uri": "https://localhost:8080/"
        },
        "id": "XOZ5nc9beZUH",
        "outputId": "bec91c46-834e-4f75-d3ac-72da00c7f59b"
      },
      "execution_count": null,
      "outputs": [
        {
          "output_type": "stream",
          "name": "stdout",
          "text": [
            "5.666666666666667\n",
            "5\n"
          ]
        }
      ]
    },
    {
      "cell_type": "markdown",
      "source": [
        "'**' in python is exponent and it is used for raising a number to a power whereas '^' is the bitwise XOR operator. It performs a bitwise XOR operation on the corresponding bits of two integers. It's used for bitwise manipulation."
      ],
      "metadata": {
        "id": "X_Py3QB2fZPH"
      }
    },
    {
      "cell_type": "code",
      "source": [
        "result = 3 ^ 5\n",
        "print(result)\n",
        "# Binary:- 0011 XOR 0101 = 0110 (Decimal 6)\n"
      ],
      "metadata": {
        "colab": {
          "base_uri": "https://localhost:8080/"
        },
        "id": "haY5xEOFgLwF",
        "outputId": "9134c04e-90c3-432b-ece7-1ae07807f2ff"
      },
      "execution_count": null,
      "outputs": [
        {
          "output_type": "stream",
          "name": "stdout",
          "text": [
            "6\n"
          ]
        }
      ]
    },
    {
      "cell_type": "markdown",
      "source": [
        "Q.3. List the logical operators."
      ],
      "metadata": {
        "id": "sDhgPEnpc0-g"
      }
    },
    {
      "cell_type": "markdown",
      "source": [
        "There are 3 logical operator in python.\n",
        "1. And: It will return true only if both the operands are true else will return false.\n",
        "2. Or: Or operator will return true if either of the operands are true. If both are false then it will return false.\n",
        "3. Not: It will return the oposite of the operand."
      ],
      "metadata": {
        "id": "wkYt2j41gX7v"
      }
    },
    {
      "cell_type": "markdown",
      "source": [
        "Q.4. Explain right shift operator and left shift operator with examples."
      ],
      "metadata": {
        "id": "5pmOYDcdc5UJ"
      }
    },
    {
      "cell_type": "markdown",
      "source": [
        "Right shift operator: It is a bitwise operator that shifts the bits of a binary number to the right by a specified number of positions\n",
        "\n"
      ],
      "metadata": {
        "id": "7Qwi8mCghPUL"
      }
    },
    {
      "cell_type": "code",
      "source": [
        "x = 8  # In binary, it is 1000\n",
        "y = x >> 2\n",
        "print(y)  # Output:- 2 (Binary: 0010)\n"
      ],
      "metadata": {
        "colab": {
          "base_uri": "https://localhost:8080/"
        },
        "id": "4m4vbuAniBvS",
        "outputId": "7cfc6421-6652-4fad-8467-8d19fe7d52ef"
      },
      "execution_count": null,
      "outputs": [
        {
          "output_type": "stream",
          "name": "stdout",
          "text": [
            "2\n"
          ]
        }
      ]
    },
    {
      "cell_type": "markdown",
      "source": [
        "Left shift operator: It is a bitwise operator that shifts the bits of a binary number to the left by a specified number of positions"
      ],
      "metadata": {
        "id": "j0u6yRUBiqMw"
      }
    },
    {
      "cell_type": "code",
      "source": [
        "x = 8  # In binary, it is 1000\n",
        "y = x << 2\n",
        "print(y)  # Output:- 32 (Binary: 100000)"
      ],
      "metadata": {
        "colab": {
          "base_uri": "https://localhost:8080/"
        },
        "id": "4WAq3ne_iwmr",
        "outputId": "65d3a631-9653-4988-9b03-40ac42ba609b"
      },
      "execution_count": null,
      "outputs": [
        {
          "output_type": "stream",
          "name": "stdout",
          "text": [
            "32\n"
          ]
        }
      ]
    },
    {
      "cell_type": "markdown",
      "source": [
        "Q.5. Create a list containing int type data of length 15. Then write a code to check if 10 is\n",
        "present in the list or not."
      ],
      "metadata": {
        "id": "ys2pcGkKc8rP"
      }
    },
    {
      "cell_type": "code",
      "source": [
        "my_list = [2, 4, 6, 8, 10, 12, 14, 16, 18, 20, 22, 24, 26, 28, 30]\n",
        "\n",
        "# Check if 10 is present in the list\n",
        "if 10 in my_list:\n",
        "    print(\"10 is present in the list.\")\n",
        "else:\n",
        "    print(\"10 is not present in the list.\")"
      ],
      "metadata": {
        "colab": {
          "base_uri": "https://localhost:8080/"
        },
        "id": "2JKquT4DdAqP",
        "outputId": "01986737-157e-47da-8fdd-3f4e56ec6e5f"
      },
      "execution_count": null,
      "outputs": [
        {
          "output_type": "stream",
          "name": "stdout",
          "text": [
            "10 is present in the list.\n"
          ]
        }
      ]
    },
    {
      "cell_type": "code",
      "source": [],
      "metadata": {
        "id": "Zt63hirMjodG"
      },
      "execution_count": null,
      "outputs": []
    }
  ]
}