{
  "nbformat": 4,
  "nbformat_minor": 0,
  "metadata": {
    "colab": {
      "provenance": [],
      "authorship_tag": "ABX9TyMTnz/esbiyC7OEtEyavObh",
      "include_colab_link": true
    },
    "kernelspec": {
      "name": "python3",
      "display_name": "Python 3"
    },
    "language_info": {
      "name": "python"
    }
  },
  "cells": [
    {
      "cell_type": "markdown",
      "metadata": {
        "id": "view-in-github",
        "colab_type": "text"
      },
      "source": [
        "<a href=\"https://colab.research.google.com/github/Krishnakant-Pal/Python_Assigments/blob/main/Assignment_10.ipynb\" target=\"_parent\"><img src=\"https://colab.research.google.com/assets/colab-badge.svg\" alt=\"Open In Colab\"/></a>"
      ]
    },
    {
      "cell_type": "markdown",
      "source": [
        "**1. What is the role of try and exception block?**\n"
      ],
      "metadata": {
        "id": "M1ZVmAnj3RC-"
      }
    },
    {
      "cell_type": "markdown",
      "source": [
        "--> When a block of code may raise a error this cause the program to terminate.To handle errors try and exception block comes handly. The try block contain the code which likely to cause an error. That error is handle by the code in the except block."
      ],
      "metadata": {
        "id": "AiSE9zx93jqa"
      }
    },
    {
      "cell_type": "markdown",
      "source": [
        "**2. What is the syntax for a basic try-except block?**"
      ],
      "metadata": {
        "id": "vF7fTkpC4sU1"
      }
    },
    {
      "cell_type": "code",
      "source": [
        "try:\n",
        "    # Code that may raise an exception\n",
        "except ExceptionType:\n",
        "    # Code to handle the exception\n",
        "\n"
      ],
      "metadata": {
        "id": "lQEMBBn84xpN"
      },
      "execution_count": null,
      "outputs": []
    },
    {
      "cell_type": "markdown",
      "source": [
        "**3. What happens if an exception occurs inside a try block and there is no matching\n",
        "except block?**\n"
      ],
      "metadata": {
        "id": "LTgnEaCP4uyr"
      }
    },
    {
      "cell_type": "markdown",
      "source": [
        "--> When exception occurs inside a try block then it calls the except block until the it caught the appropriate exception hanldling. If there are none matching except block then the program will terminate."
      ],
      "metadata": {
        "id": "wbNsgtrj5G2p"
      }
    },
    {
      "cell_type": "markdown",
      "source": [
        "**4. What is the difference between using a bare except block and specifying a specific\n",
        "exception type?**"
      ],
      "metadata": {
        "id": "w__LmGTA5p20"
      }
    },
    {
      "cell_type": "markdown",
      "source": [
        "--> Using bare except will catches all types of exception occurs in the try block. It has the downside while debugging the code we don't have any specific error.\n",
        "\n",
        "Whereas specifying a specific exception type will only catches specific type of error. It makes the debugging the code lot easier.\n"
      ],
      "metadata": {
        "id": "gXtoCGM95-me"
      }
    },
    {
      "cell_type": "code",
      "source": [
        "try:\n",
        "    x = 10 / 0  # This raises a ZeroDivisionError\n",
        "except:\n",
        "    print(\"An error occurred\")\n"
      ],
      "metadata": {
        "colab": {
          "base_uri": "https://localhost:8080/"
        },
        "id": "Xi8IL2Lz7hpE",
        "outputId": "727667ec-6f55-481f-aa7a-6d7e74c04550"
      },
      "execution_count": null,
      "outputs": [
        {
          "output_type": "stream",
          "name": "stdout",
          "text": [
            "An error occurred\n"
          ]
        }
      ]
    },
    {
      "cell_type": "code",
      "source": [
        "try:\n",
        "    x = 10 / 0  # This raises a ZeroDivisionError\n",
        "except ZeroDivisionError:\n",
        "    print(\"Division by zero error\")\n",
        "except ValueError:\n",
        "    print(\"Value error\")\n",
        "except Exception:\n",
        "    print(\"Some other exception\")\n"
      ],
      "metadata": {
        "colab": {
          "base_uri": "https://localhost:8080/"
        },
        "id": "aB1OrVbj7kQy",
        "outputId": "740a7f0a-2e7b-46b8-c8c8-b8bcc757474f"
      },
      "execution_count": null,
      "outputs": [
        {
          "output_type": "stream",
          "name": "stdout",
          "text": [
            "Division by zero error\n"
          ]
        }
      ]
    },
    {
      "cell_type": "markdown",
      "source": [
        "**5. Can you have nested try-except blocks in Python? If yes, then give an example.**"
      ],
      "metadata": {
        "id": "QLl434UH7WsR"
      }
    },
    {
      "cell_type": "markdown",
      "source": [
        "--> Try except blocks can be nested when we have to do exception handling in different level of the program."
      ],
      "metadata": {
        "id": "PUrfDtl47Ywh"
      }
    },
    {
      "cell_type": "markdown",
      "source": [
        "Example -\n",
        "\n",
        "In the below example outer try block code takes the input from the user and converts it into the integer if any error occurs it will raise exception. In inner try block if we get the ZeroDivisionError then it will raise exception."
      ],
      "metadata": {
        "id": "blVdEHZf7-rb"
      }
    },
    {
      "cell_type": "code",
      "source": [
        "try:\n",
        "    # Outer try block\n",
        "    num = int(input(\"Enter a number: \"))\n",
        "\n",
        "    try:\n",
        "        # Inner try block\n",
        "        result = 10 / num  # This can raise a ZeroDivisionError\n",
        "        print(f\"Result: {result}\")\n",
        "    except ZeroDivisionError:\n",
        "        print(\"Inner except: Division by zero\")\n",
        "\n",
        "except ValueError:\n",
        "    print(\"Outer except: Invalid input (not a number)\")\n"
      ],
      "metadata": {
        "colab": {
          "base_uri": "https://localhost:8080/"
        },
        "id": "7zV0HXC-3SUl",
        "outputId": "d0868ea9-ba78-4db1-9b8f-ba0d463e0406"
      },
      "execution_count": null,
      "outputs": [
        {
          "output_type": "stream",
          "name": "stdout",
          "text": [
            "Enter a number: 2\n",
            "Result: 5.0\n"
          ]
        }
      ]
    },
    {
      "cell_type": "markdown",
      "source": [
        "**6. Can we use multiple exception blocks, if yes then give an example.**"
      ],
      "metadata": {
        "id": "PfrwZo049HCp"
      }
    },
    {
      "cell_type": "markdown",
      "source": [
        "--> Yes, it is possible to use multiple exception blocks. Using multiple exception block with differen types of exception easier to debug the code."
      ],
      "metadata": {
        "id": "DtmWxg57-opB"
      }
    },
    {
      "cell_type": "code",
      "source": [
        "try:\n",
        "    value = int(input(\"Enter a number: \"))\n",
        "    result = 10 / value  # This can raise different types of exceptions\n",
        "\n",
        "except ValueError:\n",
        "    print(\"Invalid input: Please enter a valid number\")\n",
        "\n",
        "except ZeroDivisionError:\n",
        "    print(\"Division by zero is not allowed\")\n",
        "\n",
        "except ArithmeticError:\n",
        "    print(\"Arithmetic error occurred\")\n",
        "\n",
        "except Exception as e:\n",
        "    print(f\"An unexpected exception occurred: {e}\")\n"
      ],
      "metadata": {
        "colab": {
          "base_uri": "https://localhost:8080/"
        },
        "id": "KRXzCDxP79OA",
        "outputId": "c5865cd9-ffb3-4950-b0d1-f11b778c283c"
      },
      "execution_count": null,
      "outputs": [
        {
          "output_type": "stream",
          "name": "stdout",
          "text": [
            "Enter a number: 1.1\n",
            "Invalid input: Please enter a valid number\n"
          ]
        }
      ]
    },
    {
      "cell_type": "markdown",
      "source": [
        "**7. Write the reason due to which following errors are raised:\n",
        "a. EOFError\n",
        "b. FloatingPointError\n",
        "c. IndexError\n",
        "d. MemoryError\n",
        "e. OverflowError\n",
        "f. TabError\n",
        "g. ValueError**"
      ],
      "metadata": {
        "id": "jBjDwu2Q_VXc"
      }
    },
    {
      "cell_type": "markdown",
      "source": [
        "1. EOFError: It is raised when a operator tries to read file beyond the end of the file.\n",
        "2. FloationPointError: It is raised while dealing with the floating point number like division by zero.\n",
        "3. IndexError: Index error is raised when we try to access the that is out of range in a sequence in the list beyond the index.\n",
        "4. MemoryError: It is raised when our program uses more memory that the memory availble in the system.\n",
        "5. OverflowError: It occurs, for example, when you attempt to store a number that is too large to fit into the available memory for the data type.\n",
        "6. TabError: It is raised when we mix the tab and the space in the python file and it confuses python.\n",
        "7. ValueError: IIt is raised when we try to perform operation between string and intiger or float and while typecasing the string into integer of float."
      ],
      "metadata": {
        "id": "AkZCcn3r_ZKY"
      }
    },
    {
      "cell_type": "markdown",
      "source": [
        "**8. Write code for the following given scenario and add try-exception block to it.\n",
        "a. Program to divide two numbers\n",
        "b. Program to convert a string to an integer\n",
        "c. Program to access an element in a list\n",
        "d. Program to handle a specific exception\n",
        "e. Program to handle any exception**\n"
      ],
      "metadata": {
        "id": "LjVEKPCCDi_H"
      }
    },
    {
      "cell_type": "code",
      "source": [
        "# Program to divide two numbers\n",
        "\n",
        "try:\n",
        "    a = float(input(\"Enter the first number: \"))\n",
        "    b = float(input(\"Enter the first number: \"))\n",
        "\n",
        "    result = a/b\n",
        "    print(result)\n",
        "\n",
        "except ValueError:\n",
        "    print(\"Value Error Occured\")\n",
        "\n",
        "except ZeroDivisionError :\n",
        "    print(\"Zero Division Error Occured\")\n",
        "\n",
        "except ArithmeticError:\n",
        "    print(\"Arithmetic error occurred\")\n",
        "\n",
        "except Exception as e:\n",
        "    print(\"Unexpected Error Occured\")\n",
        "\n"
      ],
      "metadata": {
        "colab": {
          "base_uri": "https://localhost:8080/"
        },
        "id": "8DGaiORZ_WsN",
        "outputId": "60635b7c-8fb9-44b8-a1cc-53e482f8de74"
      },
      "execution_count": null,
      "outputs": [
        {
          "output_type": "stream",
          "name": "stdout",
          "text": [
            "Enter the first number: 10\n",
            "Enter the first number: 0\n",
            "Zero Division Error Occured\n"
          ]
        }
      ]
    },
    {
      "cell_type": "code",
      "source": [
        "# Program to convert a string to an integer\n",
        "try:\n",
        "    user_input = input(\"Enter a number as a string: \")\n",
        "    converted_number = int(user_input)\n",
        "    print(f\"Successfully converted to an integer: {converted_number}\")\n",
        "except ValueError:\n",
        "    print(\"Error: Invalid input. Please enter a valid integer.\")\n",
        "\n"
      ],
      "metadata": {
        "colab": {
          "base_uri": "https://localhost:8080/"
        },
        "id": "_fwEvmnhE0TE",
        "outputId": "a9a56ee9-d753-45ef-de4f-a827e8edf6be"
      },
      "execution_count": null,
      "outputs": [
        {
          "output_type": "stream",
          "name": "stdout",
          "text": [
            "Enter a number as a string: 13123123\n",
            "Successfully converted to an integer: 13123123\n"
          ]
        }
      ]
    },
    {
      "cell_type": "code",
      "source": [
        "# Program to access an element in a list\n",
        "try:\n",
        "    my_list = [1, 2, 3, 4, 5]\n",
        "\n",
        "    # Get user input for the index\n",
        "    index = int(input(\"Enter an index to access: \"))\n",
        "\n",
        "    # Attempt to access the element in the list\n",
        "    element = my_list[index]\n",
        "\n",
        "    print(f\"Element at index {index}: {element}\")\n",
        "except IndexError:\n",
        "    print(\"Error: Index out of range. Please enter a valid index.\")\n",
        "except ValueError:\n",
        "    print(\"Error: Invalid input. Please enter a valid integer index.\")\n"
      ],
      "metadata": {
        "colab": {
          "base_uri": "https://localhost:8080/"
        },
        "id": "KCYqJK_bFyds",
        "outputId": "2ee8b67f-d385-4393-f507-f39252900166"
      },
      "execution_count": null,
      "outputs": [
        {
          "output_type": "stream",
          "name": "stdout",
          "text": [
            "Enter an index to access: 5\n",
            "Error: Index out of range. Please enter a valid index.\n"
          ]
        }
      ]
    },
    {
      "cell_type": "code",
      "source": [
        "import sys\n",
        "\n",
        "class customexception(Exception):\n",
        "    def __init__(self,error_message,error_details:sys):\n",
        "        self.error_message = error_message\n",
        "        _,_,exc_tb = error_details.exc_info()\n",
        "\n",
        "        self.lineno=exc_tb.tb_lineno\n",
        "        self.file_name=exc_tb.tb_frame.f_code.co_filename\n",
        "\n",
        "    def __str__(self):\n",
        "        return \"Error occured in python script name [{0}] line number [{1}] error message [{2}]\".format(\n",
        "        self.file_name, self.lineno, str(self.error_message))\n",
        "\n",
        "\n",
        "if __name__ == \"__main__\":\n",
        "    try:\n",
        "\n",
        "        a=1/0\n",
        "    except Exception as e:\n",
        "        raise customexception(e,sys)\n"
      ],
      "metadata": {
        "colab": {
          "base_uri": "https://localhost:8080/",
          "height": 321
        },
        "id": "FQOjbGbYGgTr",
        "outputId": "55b207f7-e2da-4a75-d206-6c629eecab48"
      },
      "execution_count": null,
      "outputs": [
        {
          "output_type": "error",
          "ename": "customexception",
          "evalue": "ignored",
          "traceback": [
            "\u001b[0;31m---------------------------------------------------------------------------\u001b[0m",
            "\u001b[0;31mZeroDivisionError\u001b[0m                         Traceback (most recent call last)",
            "\u001b[0;32m<ipython-input-27-185f5462db89>\u001b[0m in \u001b[0;36m<cell line: 18>\u001b[0;34m()\u001b[0m\n\u001b[1;32m     20\u001b[0m \u001b[0;34m\u001b[0m\u001b[0m\n\u001b[0;32m---> 21\u001b[0;31m         \u001b[0ma\u001b[0m\u001b[0;34m=\u001b[0m\u001b[0;36m1\u001b[0m\u001b[0;34m/\u001b[0m\u001b[0;36m0\u001b[0m\u001b[0;34m\u001b[0m\u001b[0;34m\u001b[0m\u001b[0m\n\u001b[0m\u001b[1;32m     22\u001b[0m     \u001b[0;32mexcept\u001b[0m \u001b[0mException\u001b[0m \u001b[0;32mas\u001b[0m \u001b[0me\u001b[0m\u001b[0;34m:\u001b[0m\u001b[0;34m\u001b[0m\u001b[0;34m\u001b[0m\u001b[0m\n",
            "\u001b[0;31mZeroDivisionError\u001b[0m: division by zero",
            "\nDuring handling of the above exception, another exception occurred:\n",
            "\u001b[0;31mcustomexception\u001b[0m                           Traceback (most recent call last)",
            "\u001b[0;32m<ipython-input-27-185f5462db89>\u001b[0m in \u001b[0;36m<cell line: 18>\u001b[0;34m()\u001b[0m\n\u001b[1;32m     21\u001b[0m         \u001b[0ma\u001b[0m\u001b[0;34m=\u001b[0m\u001b[0;36m1\u001b[0m\u001b[0;34m/\u001b[0m\u001b[0;36m0\u001b[0m\u001b[0;34m\u001b[0m\u001b[0;34m\u001b[0m\u001b[0m\n\u001b[1;32m     22\u001b[0m     \u001b[0;32mexcept\u001b[0m \u001b[0mException\u001b[0m \u001b[0;32mas\u001b[0m \u001b[0me\u001b[0m\u001b[0;34m:\u001b[0m\u001b[0;34m\u001b[0m\u001b[0;34m\u001b[0m\u001b[0m\n\u001b[0;32m---> 23\u001b[0;31m         \u001b[0;32mraise\u001b[0m \u001b[0mcustomexception\u001b[0m\u001b[0;34m(\u001b[0m\u001b[0me\u001b[0m\u001b[0;34m,\u001b[0m\u001b[0msys\u001b[0m\u001b[0;34m)\u001b[0m\u001b[0;34m\u001b[0m\u001b[0;34m\u001b[0m\u001b[0m\n\u001b[0m\u001b[1;32m     24\u001b[0m \u001b[0;34m\u001b[0m\u001b[0m\n",
            "\u001b[0;31mcustomexception\u001b[0m: Error occured in python script name [<ipython-input-27-185f5462db89>] line number [21] error message [division by zero]"
          ]
        }
      ]
    },
    {
      "cell_type": "code",
      "source": [],
      "metadata": {
        "id": "5ayNWKrCH6A2"
      },
      "execution_count": null,
      "outputs": []
    }
  ]
}